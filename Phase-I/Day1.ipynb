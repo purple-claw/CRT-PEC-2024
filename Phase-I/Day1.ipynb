{
 "cells": [
  {
   "cell_type": "code",
   "execution_count": 1,
   "metadata": {},
   "outputs": [
    {
     "name": "stdout",
     "output_type": "stream",
     "text": [
      "5\n"
     ]
    }
   ],
   "source": [
    "s = input(\"Enter the String :\")\n",
    "#string = ''.join(sorted(s))\n",
    "#print(string)\n",
    "\n",
    "def sort(s):\n",
    "    p = list(s)\n",
    "    n = len(p)\n",
    "    for i in range(n-1):\n",
    "        for j in range(n-i-1):\n",
    "            if p[j] > p[j+1]:\n",
    "                p[j], p[j+1] = p[j+1], p[j]\n",
    "    return ''.join(p)\n",
    "\n",
    "print(sort(s))"
   ]
  },
  {
   "cell_type": "code",
   "execution_count": null,
   "metadata": {},
   "outputs": [],
   "source": [
    "#a = [1,2,3,4,5]\n",
    "#print(a[::-1])\n",
    "\n",
    "s = \"hello\"\n",
    "#print(s[-1]+s[:4])\n",
    "k = int(input(\"Enter the value of K:\"))\n",
    "print(s[-k:]+s[:len(s)-k])\n",
    "print(len(s))"
   ]
  },
  {
   "cell_type": "code",
   "execution_count": null,
   "metadata": {},
   "outputs": [],
   "source": [
    "n = 5\n",
    "star = 1\n",
    "gap = n-1\n",
    "for i in range(1, n+1):\n",
    "    print(\" \" * gap, end=' ')\n",
    "    for j in range(1,i+1):\n",
    "        print(\"*\" * star, end=' ')\n",
    "    gap -= 1\n",
    "    print()"
   ]
  },
  {
   "cell_type": "code",
   "execution_count": null,
   "metadata": {},
   "outputs": [],
   "source": [
    "def sort(a):\n",
    "    n = len(a)\n",
    "    for i in range(n-1):\n",
    "        for j in range(n-i-1):\n",
    "            if a[j] > a[j+1]:\n",
    "                a[j], a[j+1] = a[j+1], a[j]\n",
    "    return a\n",
    "            \n",
    "\n",
    "a = [0,2,0,3,0,1,0,0,2,3,1,0,0,0,0,0]\n",
    "#a = sorted(a, reverse=True)\n",
    "res = sort(a)\n",
    "print(a[::-1])"
   ]
  }
 ],
 "metadata": {
  "kernelspec": {
   "display_name": "Python 3",
   "language": "python",
   "name": "python3"
  },
  "language_info": {
   "codemirror_mode": {
    "name": "ipython",
    "version": 3
   },
   "file_extension": ".py",
   "mimetype": "text/x-python",
   "name": "python",
   "nbconvert_exporter": "python",
   "pygments_lexer": "ipython3",
   "version": "3.11.8"
  }
 },
 "nbformat": 4,
 "nbformat_minor": 2
}
