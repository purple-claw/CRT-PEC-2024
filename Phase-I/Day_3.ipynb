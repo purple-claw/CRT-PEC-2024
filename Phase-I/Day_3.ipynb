{
 "cells": [
  {
   "cell_type": "code",
   "execution_count": 41,
   "metadata": {},
   "outputs": [
    {
     "name": "stdout",
     "output_type": "stream",
     "text": [
      "     * \n",
      "    * * \n",
      "   * * * \n",
      "  * * * * \n",
      " * * * * * \n"
     ]
    }
   ],
   "source": [
    "n = 5\n",
    "star = 1\n",
    "gap = n-1\n",
    "for i in range(1, n+1):\n",
    "    print(\" \" * gap, end=' ')\n",
    "    for j in range(1,i+1):\n",
    "        print(\"*\" * star, end=' ')\n",
    "    gap -= 1\n",
    "    print()"
   ]
  },
  {
   "cell_type": "code",
   "execution_count": 43,
   "metadata": {},
   "outputs": [
    {
     "name": "stdout",
     "output_type": "stream",
     "text": [
      "     * * * * * \n",
      "      * * * * \n",
      "       * * * \n",
      "        * * \n",
      "         * \n"
     ]
    }
   ],
   "source": [
    "n = 5\n",
    "star = 1\n",
    "gap = n-1\n",
    "for i in range(n,0,-1):\n",
    "    print(\" \" * gap, end=' ')\n",
    "    for j in range(1, i+1):\n",
    "        print(\"*\" * star, end=' ')\n",
    "    gap+=1\n",
    "    print()"
   ]
  },
  {
   "cell_type": "code",
   "execution_count": 44,
   "metadata": {},
   "outputs": [
    {
     "name": "stdout",
     "output_type": "stream",
     "text": [
      "    *\n",
      "   **\n",
      "  ***\n",
      " ****\n",
      "*****\n"
     ]
    }
   ],
   "source": [
    "n = 5\n",
    "for i in range(1, n+1):\n",
    "    print(\" \" * (n-i) + \"*\" * i)"
   ]
  },
  {
   "cell_type": "code",
   "execution_count": 151,
   "metadata": {},
   "outputs": [
    {
     "name": "stdout",
     "output_type": "stream",
     "text": [
      "* * * * * * * * \n",
      "*             *\n",
      "*             *\n",
      "*             *\n",
      "*             *\n",
      "*             *\n",
      "*             *\n",
      "* * * * * * * * \n"
     ]
    }
   ],
   "source": [
    "n = 8\n",
    "print(\"* \" * n)\n",
    "for i in range(n-2):\n",
    "    print(\"* \" + \" \" * (2*n-5) + \" *\")\n",
    "print(\"* \" * n)"
   ]
  },
  {
   "cell_type": "code",
   "execution_count": 168,
   "metadata": {},
   "outputs": [
    {
     "name": "stdout",
     "output_type": "stream",
     "text": [
      "comput\n",
      "o    u\n",
      "m    p\n",
      "tupmoc\n"
     ]
    }
   ],
   "source": [
    "s = 'comput'\n",
    "print(s)\n",
    "n = len(s)\n",
    "lst = [e for e in s]\n",
    "l = 1\n",
    "r = len(lst)-2\n",
    "i = 0\n",
    "while l <= r:\n",
    "    print(lst[l] + \" \" *(n-2) + lst[r])\n",
    "    l += 1\n",
    "    r -= 1\n",
    "    i += 1\n",
    "print(s[::-1])"
   ]
  },
  {
   "cell_type": "code",
   "execution_count": 21,
   "metadata": {},
   "outputs": [
    {
     "name": "stdout",
     "output_type": "stream",
     "text": [
      "Comput\n",
      "o    u\n",
      "m    p\n",
      "p    m\n",
      "u    o\n",
      "tupmoC\n"
     ]
    }
   ],
   "source": [
    "s = 'Comput'\n",
    "print(s)\n",
    "lst = [e for e in s]\n",
    "n = len(s)\n",
    "for i in range(1,n-1):\n",
    "    print(str(lst[i]) + \" \" * (n-2) + str(lst[-i-1]))\n",
    "print(s[::-1])"
   ]
  },
  {
   "cell_type": "code",
   "execution_count": 31,
   "metadata": {},
   "outputs": [
    {
     "name": "stdout",
     "output_type": "stream",
     "text": [
      "C o m p u t e C           e\n",
      "o           t\n",
      "m           u\n",
      "p           p\n",
      "u           m\n",
      "t           o\n",
      "e t u p m o C "
     ]
    }
   ],
   "source": [
    "def gap(s):\n",
    "    for char in s:\n",
    "        print(char + \" \", end=\"\")\n",
    "\n",
    "def gapr(s):\n",
    "    for char in s[::-1]:\n",
    "        print(char + \" \", end=\"\")\n",
    "\n",
    "s = 'Compute'\n",
    "#print(gap(s))\n",
    "lst = [e for e in s]\n",
    "for char in s:\n",
    "    print(char + \" \", end=\"\")\n",
    "    \n",
    "n = len(s)\n",
    "for i in range(0,n-1):\n",
    "    print(str(lst[i]) + \" \" * (2*n-3) + str(lst[-i-1]))\n",
    "\n",
    "for char in s[::-1]:\n",
    "    print(char + \" \", end=\"\")"
   ]
  },
  {
   "cell_type": "code",
   "execution_count": 9,
   "metadata": {},
   "outputs": [
    {
     "name": "stdout",
     "output_type": "stream",
     "text": [
      "C o m p u t e \n",
      "o           t\n",
      "m           u\n",
      "p           p\n",
      "u           m\n",
      "t           o\n",
      "e t u p m o C \n"
     ]
    }
   ],
   "source": [
    "def gap(s):\n",
    "    res = \"\"\n",
    "    for char in s:\n",
    "        res += char + \" \"\n",
    "    return res\n",
    "def gapr(s):\n",
    "    ress = \"\"\n",
    "    for char in s[::-1]:\n",
    "        ress += char + \" \"\n",
    "    return ress\n",
    "\n",
    "s = 'Compute'\n",
    "print(gap(s))\n",
    "lst = [e for e in s]\n",
    "n = len(s)\n",
    "for i in range(1,n-1):\n",
    "    print(str(lst[i]) + \" \" * (2*n-3) + str(lst[-i-1]))\n",
    "print(gapr(s))"
   ]
  },
  {
   "cell_type": "code",
   "execution_count": 30,
   "metadata": {},
   "outputs": [
    {
     "name": "stdout",
     "output_type": "stream",
     "text": [
      "6\n"
     ]
    }
   ],
   "source": [
    "print(len(lst))"
   ]
  },
  {
   "cell_type": "code",
   "execution_count": 25,
   "metadata": {},
   "outputs": [
    {
     "name": "stdout",
     "output_type": "stream",
     "text": [
      "D a d "
     ]
    }
   ],
   "source": [
    "s = \"Dad\"\n",
    "for char in s:\n",
    "    print(char + \" \", end='')"
   ]
  },
  {
   "cell_type": "code",
   "execution_count": 2,
   "metadata": {},
   "outputs": [
    {
     "name": "stdout",
     "output_type": "stream",
     "text": [
      "*       * \n",
      "  *   *   \n",
      "    *     \n",
      "  *   *   \n",
      "*       * \n"
     ]
    }
   ],
   "source": [
    "n = 5\n",
    "for i in range(n):\n",
    "    for j in range(n):\n",
    "        if i == j or i==n-j-1:\n",
    "            print(\"* \", end=\"\")\n",
    "        else:\n",
    "            print(\" \", end=\" \")\n",
    "    print()"
   ]
  },
  {
   "cell_type": "code",
   "execution_count": 10,
   "metadata": {},
   "outputs": [
    {
     "name": "stdout",
     "output_type": "stream",
     "text": [
      "*****\n",
      " ****\n",
      "  ***\n",
      "   **\n",
      "    *\n"
     ]
    }
   ],
   "source": [
    "n = 5\n",
    "for i in range(n, 0, -1):\n",
    "    print(\" \" * (n-i) + \"*\" * i)"
   ]
  },
  {
   "cell_type": "code",
   "execution_count": 46,
   "metadata": {},
   "outputs": [
    {
     "name": "stdout",
     "output_type": "stream",
     "text": [
      "     * \n",
      "    * * \n",
      "   * * * \n",
      "  * * * * \n",
      " * * * * * \n"
     ]
    }
   ],
   "source": [
    "n = 5\n",
    "for i in range(1,n+1):\n",
    "    print(\" \" * (n-i), \"* \" *i)"
   ]
  },
  {
   "cell_type": "code",
   "execution_count": 12,
   "metadata": {},
   "outputs": [
    {
     "name": "stdout",
     "output_type": "stream",
     "text": [
      " * * * * * \n",
      "  * * * * \n",
      "   * * * \n",
      "    * * \n",
      "     * \n"
     ]
    }
   ],
   "source": [
    "n = 5\n",
    "for i in range(n,0,-1):\n",
    "    print(\" \" * (n-i), \"* \" * i)"
   ]
  },
  {
   "cell_type": "code",
   "execution_count": 1,
   "metadata": {},
   "outputs": [
    {
     "name": "stdout",
     "output_type": "stream",
     "text": [
      "[1, 4, 9, 16, 36]\n"
     ]
    }
   ],
   "source": [
    "nums = [1,2,3,4,6]\n",
    "sqrd = list(map(lambda x:x**2, nums))\n",
    "print(sqrd)"
   ]
  },
  {
   "cell_type": "code",
   "execution_count": 3,
   "metadata": {},
   "outputs": [],
   "source": [
    "def count_up(n):\n",
    "    i = 1\n",
    "    while i<=n:\n",
    "        yield i\n",
    "        i += 1"
   ]
  },
  {
   "cell_type": "code",
   "execution_count": null,
   "metadata": {},
   "outputs": [],
   "source": [
    "mat = [[1,2,3],[4,5,6],[7,8,9]]\n",
    "ans = []\n",
    "top, bottom = 0, len(mat)-1\n",
    "left,right = 0, len(mat[0])-1\n",
    "while top <= bottom and left <= right:\n",
    "    for i in range(left,right+1):\n",
    "        ans.append(mat[top][i])\n",
    "    top += 1\n",
    "    for j in range()"
   ]
  }
 ],
 "metadata": {
  "kernelspec": {
   "display_name": "Python 3",
   "language": "python",
   "name": "python3"
  },
  "language_info": {
   "codemirror_mode": {
    "name": "ipython",
    "version": 3
   },
   "file_extension": ".py",
   "mimetype": "text/x-python",
   "name": "python",
   "nbconvert_exporter": "python",
   "pygments_lexer": "ipython3",
   "version": "3.11.8"
  }
 },
 "nbformat": 4,
 "nbformat_minor": 2
}
