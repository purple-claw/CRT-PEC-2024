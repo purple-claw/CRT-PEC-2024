{
 "cells": [
  {
   "cell_type": "code",
   "execution_count": 19,
   "metadata": {},
   "outputs": [
    {
     "name": "stdout",
     "output_type": "stream",
     "text": [
      "Move disk 1 from Source to  ExtraSpace\n",
      "Move disk 2 from Source to  Destination\n",
      "Move disk 1 from ExtraSpace to  Destination\n",
      "Move disk 3 from Source to  ExtraSpace\n",
      "Move disk 1 from Destination to  Source\n",
      "Move disk 2 from Destination to  ExtraSpace\n",
      "Move disk 1 from Source to  ExtraSpace\n",
      "Move disk 4 from Source to  Destination\n",
      "Move disk 1 from ExtraSpace to  Destination\n",
      "Move disk 2 from ExtraSpace to  Source\n",
      "Move disk 1 from Destination to  Source\n",
      "Move disk 3 from ExtraSpace to  Destination\n",
      "Move disk 1 from Source to  ExtraSpace\n",
      "Move disk 2 from Source to  Destination\n",
      "Move disk 1 from ExtraSpace to  Destination\n"
     ]
    }
   ],
   "source": [
    "#day 3\n",
    "def TowerOfHanoi(n, source, extraSpace, destination):\n",
    "    if n == 0:\n",
    "        return\n",
    "    \n",
    "    TowerOfHanoi(n-1, source, destination, extraSpace)\n",
    "    print(\"Move disk\", n, \"from\", source, \"to \", extraSpace)\n",
    "    TowerOfHanoi(n-1, destination, extraSpace, source)\n",
    "    \n",
    "N = 4\n",
    "TowerOfHanoi(N, 'Source', 'Destination', 'ExtraSpace')\n",
    "    "
   ]
  }
 ],
 "metadata": {
  "kernelspec": {
   "display_name": "Python 3",
   "language": "python",
   "name": "python3"
  },
  "language_info": {
   "codemirror_mode": {
    "name": "ipython",
    "version": 3
   },
   "file_extension": ".py",
   "mimetype": "text/x-python",
   "name": "python",
   "nbconvert_exporter": "python",
   "pygments_lexer": "ipython3",
   "version": "3.11.8"
  }
 },
 "nbformat": 4,
 "nbformat_minor": 2
}
