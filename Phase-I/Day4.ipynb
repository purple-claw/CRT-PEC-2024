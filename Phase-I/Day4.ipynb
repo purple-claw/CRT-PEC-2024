{
 "cells": [
  {
   "cell_type": "code",
   "execution_count": 1,
   "metadata": {},
   "outputs": [
    {
     "name": "stdout",
     "output_type": "stream",
     "text": [
      "[1, 2, 3, 6, 9, 8, 7, 4, 5]\n"
     ]
    }
   ],
   "source": [
    "mat = [[1,2,3],[4,5,6],[7,8,9]]\n",
    "ans = []\n",
    "top , bottom = 0, len(mat)-1\n",
    "left, right = 0, len(mat[0])-1\n",
    "while top <= bottom and left <= right:\n",
    "    for i in range(left, right+1):\n",
    "        ans.append(mat[top][i])\n",
    "    top += 1\n",
    "    for j in range(top, bottom+1):\n",
    "        ans.append(mat[j][right])\n",
    "    right -= 1\n",
    "    if top <= bottom:\n",
    "        for k in range(right, left-1,-1):\n",
    "            ans.append(mat[bottom][k])\n",
    "        bottom -= 1\n",
    "    if left <= right:\n",
    "        for n in range(bottom, top-1,-1):\n",
    "            ans.append(mat[n][left])\n",
    "        left += 1\n",
    "print(ans)"
   ]
  },
  {
   "cell_type": "code",
   "execution_count": 7,
   "metadata": {},
   "outputs": [
    {
     "name": "stdout",
     "output_type": "stream",
     "text": [
      "0 1 1 2 3 5 8 13 21 34 \n"
     ]
    }
   ],
   "source": [
    "def fibo(n):\n",
    "    a, b = 0,1\n",
    "    while a < n:\n",
    "        print(a, end=' ')\n",
    "        a, b = b,a+b\n",
    "    print()\n",
    "fibo(50)"
   ]
  },
  {
   "cell_type": "code",
   "execution_count": 27,
   "metadata": {},
   "outputs": [
    {
     "name": "stdout",
     "output_type": "stream",
     "text": [
      "[[], [1], [2], [1, 2], [3], [1, 3], [2, 3], [1, 2, 3], [4], [1, 4], [2, 4], [1, 2, 4], [3, 4], [1, 3, 4], [2, 3, 4], [1, 2, 3, 4], [5], [1, 5], [2, 5], [1, 2, 5], [3, 5], [1, 3, 5], [2, 3, 5], [1, 2, 3, 5], [4, 5], [1, 4, 5], [2, 4, 5], [1, 2, 4, 5], [3, 4, 5], [1, 3, 4, 5], [2, 3, 4, 5], [1, 2, 3, 4, 5], [6], [1, 6], [2, 6], [1, 2, 6], [3, 6], [1, 3, 6], [2, 3, 6], [1, 2, 3, 6], [4, 6], [1, 4, 6], [2, 4, 6], [1, 2, 4, 6], [3, 4, 6], [1, 3, 4, 6], [2, 3, 4, 6], [1, 2, 3, 4, 6], [5, 6], [1, 5, 6], [2, 5, 6], [1, 2, 5, 6], [3, 5, 6], [1, 3, 5, 6], [2, 3, 5, 6], [1, 2, 3, 5, 6], [4, 5, 6], [1, 4, 5, 6], [2, 4, 5, 6], [1, 2, 4, 5, 6], [3, 4, 5, 6], [1, 3, 4, 5, 6], [2, 3, 4, 5, 6], [1, 2, 3, 4, 5, 6], [7], [1, 7], [2, 7], [1, 2, 7], [3, 7], [1, 3, 7], [2, 3, 7], [1, 2, 3, 7], [4, 7], [1, 4, 7], [2, 4, 7], [1, 2, 4, 7], [3, 4, 7], [1, 3, 4, 7], [2, 3, 4, 7], [1, 2, 3, 4, 7], [5, 7], [1, 5, 7], [2, 5, 7], [1, 2, 5, 7], [3, 5, 7], [1, 3, 5, 7], [2, 3, 5, 7], [1, 2, 3, 5, 7], [4, 5, 7], [1, 4, 5, 7], [2, 4, 5, 7], [1, 2, 4, 5, 7], [3, 4, 5, 7], [1, 3, 4, 5, 7], [2, 3, 4, 5, 7], [1, 2, 3, 4, 5, 7], [6, 7], [1, 6, 7], [2, 6, 7], [1, 2, 6, 7], [3, 6, 7], [1, 3, 6, 7], [2, 3, 6, 7], [1, 2, 3, 6, 7], [4, 6, 7], [1, 4, 6, 7], [2, 4, 6, 7], [1, 2, 4, 6, 7], [3, 4, 6, 7], [1, 3, 4, 6, 7], [2, 3, 4, 6, 7], [1, 2, 3, 4, 6, 7], [5, 6, 7], [1, 5, 6, 7], [2, 5, 6, 7], [1, 2, 5, 6, 7], [3, 5, 6, 7], [1, 3, 5, 6, 7], [2, 3, 5, 6, 7], [1, 2, 3, 5, 6, 7], [4, 5, 6, 7], [1, 4, 5, 6, 7], [2, 4, 5, 6, 7], [1, 2, 4, 5, 6, 7], [3, 4, 5, 6, 7], [1, 3, 4, 5, 6, 7], [2, 3, 4, 5, 6, 7], [1, 2, 3, 4, 5, 6, 7], [8], [1, 8], [2, 8], [1, 2, 8], [3, 8], [1, 3, 8], [2, 3, 8], [1, 2, 3, 8], [4, 8], [1, 4, 8], [2, 4, 8], [1, 2, 4, 8], [3, 4, 8], [1, 3, 4, 8], [2, 3, 4, 8], [1, 2, 3, 4, 8], [5, 8], [1, 5, 8], [2, 5, 8], [1, 2, 5, 8], [3, 5, 8], [1, 3, 5, 8], [2, 3, 5, 8], [1, 2, 3, 5, 8], [4, 5, 8], [1, 4, 5, 8], [2, 4, 5, 8], [1, 2, 4, 5, 8], [3, 4, 5, 8], [1, 3, 4, 5, 8], [2, 3, 4, 5, 8], [1, 2, 3, 4, 5, 8], [6, 8], [1, 6, 8], [2, 6, 8], [1, 2, 6, 8], [3, 6, 8], [1, 3, 6, 8], [2, 3, 6, 8], [1, 2, 3, 6, 8], [4, 6, 8], [1, 4, 6, 8], [2, 4, 6, 8], [1, 2, 4, 6, 8], [3, 4, 6, 8], [1, 3, 4, 6, 8], [2, 3, 4, 6, 8], [1, 2, 3, 4, 6, 8], [5, 6, 8], [1, 5, 6, 8], [2, 5, 6, 8], [1, 2, 5, 6, 8], [3, 5, 6, 8], [1, 3, 5, 6, 8], [2, 3, 5, 6, 8], [1, 2, 3, 5, 6, 8], [4, 5, 6, 8], [1, 4, 5, 6, 8], [2, 4, 5, 6, 8], [1, 2, 4, 5, 6, 8], [3, 4, 5, 6, 8], [1, 3, 4, 5, 6, 8], [2, 3, 4, 5, 6, 8], [1, 2, 3, 4, 5, 6, 8], [7, 8], [1, 7, 8], [2, 7, 8], [1, 2, 7, 8], [3, 7, 8], [1, 3, 7, 8], [2, 3, 7, 8], [1, 2, 3, 7, 8], [4, 7, 8], [1, 4, 7, 8], [2, 4, 7, 8], [1, 2, 4, 7, 8], [3, 4, 7, 8], [1, 3, 4, 7, 8], [2, 3, 4, 7, 8], [1, 2, 3, 4, 7, 8], [5, 7, 8], [1, 5, 7, 8], [2, 5, 7, 8], [1, 2, 5, 7, 8], [3, 5, 7, 8], [1, 3, 5, 7, 8], [2, 3, 5, 7, 8], [1, 2, 3, 5, 7, 8], [4, 5, 7, 8], [1, 4, 5, 7, 8], [2, 4, 5, 7, 8], [1, 2, 4, 5, 7, 8], [3, 4, 5, 7, 8], [1, 3, 4, 5, 7, 8], [2, 3, 4, 5, 7, 8], [1, 2, 3, 4, 5, 7, 8], [6, 7, 8], [1, 6, 7, 8], [2, 6, 7, 8], [1, 2, 6, 7, 8], [3, 6, 7, 8], [1, 3, 6, 7, 8], [2, 3, 6, 7, 8], [1, 2, 3, 6, 7, 8], [4, 6, 7, 8], [1, 4, 6, 7, 8], [2, 4, 6, 7, 8], [1, 2, 4, 6, 7, 8], [3, 4, 6, 7, 8], [1, 3, 4, 6, 7, 8], [2, 3, 4, 6, 7, 8], [1, 2, 3, 4, 6, 7, 8], [5, 6, 7, 8], [1, 5, 6, 7, 8], [2, 5, 6, 7, 8], [1, 2, 5, 6, 7, 8], [3, 5, 6, 7, 8], [1, 3, 5, 6, 7, 8], [2, 3, 5, 6, 7, 8], [1, 2, 3, 5, 6, 7, 8], [4, 5, 6, 7, 8], [1, 4, 5, 6, 7, 8], [2, 4, 5, 6, 7, 8], [1, 2, 4, 5, 6, 7, 8], [3, 4, 5, 6, 7, 8], [1, 3, 4, 5, 6, 7, 8], [2, 3, 4, 5, 6, 7, 8], [1, 2, 3, 4, 5, 6, 7, 8], [9], [1, 9], [2, 9], [1, 2, 9], [3, 9], [1, 3, 9], [2, 3, 9], [1, 2, 3, 9], [4, 9], [1, 4, 9], [2, 4, 9], [1, 2, 4, 9], [3, 4, 9], [1, 3, 4, 9], [2, 3, 4, 9], [1, 2, 3, 4, 9], [5, 9], [1, 5, 9], [2, 5, 9], [1, 2, 5, 9], [3, 5, 9], [1, 3, 5, 9], [2, 3, 5, 9], [1, 2, 3, 5, 9], [4, 5, 9], [1, 4, 5, 9], [2, 4, 5, 9], [1, 2, 4, 5, 9], [3, 4, 5, 9], [1, 3, 4, 5, 9], [2, 3, 4, 5, 9], [1, 2, 3, 4, 5, 9], [6, 9], [1, 6, 9], [2, 6, 9], [1, 2, 6, 9], [3, 6, 9], [1, 3, 6, 9], [2, 3, 6, 9], [1, 2, 3, 6, 9], [4, 6, 9], [1, 4, 6, 9], [2, 4, 6, 9], [1, 2, 4, 6, 9], [3, 4, 6, 9], [1, 3, 4, 6, 9], [2, 3, 4, 6, 9], [1, 2, 3, 4, 6, 9], [5, 6, 9], [1, 5, 6, 9], [2, 5, 6, 9], [1, 2, 5, 6, 9], [3, 5, 6, 9], [1, 3, 5, 6, 9], [2, 3, 5, 6, 9], [1, 2, 3, 5, 6, 9], [4, 5, 6, 9], [1, 4, 5, 6, 9], [2, 4, 5, 6, 9], [1, 2, 4, 5, 6, 9], [3, 4, 5, 6, 9], [1, 3, 4, 5, 6, 9], [2, 3, 4, 5, 6, 9], [1, 2, 3, 4, 5, 6, 9], [7, 9], [1, 7, 9], [2, 7, 9], [1, 2, 7, 9], [3, 7, 9], [1, 3, 7, 9], [2, 3, 7, 9], [1, 2, 3, 7, 9], [4, 7, 9], [1, 4, 7, 9], [2, 4, 7, 9], [1, 2, 4, 7, 9], [3, 4, 7, 9], [1, 3, 4, 7, 9], [2, 3, 4, 7, 9], [1, 2, 3, 4, 7, 9], [5, 7, 9], [1, 5, 7, 9], [2, 5, 7, 9], [1, 2, 5, 7, 9], [3, 5, 7, 9], [1, 3, 5, 7, 9], [2, 3, 5, 7, 9], [1, 2, 3, 5, 7, 9], [4, 5, 7, 9], [1, 4, 5, 7, 9], [2, 4, 5, 7, 9], [1, 2, 4, 5, 7, 9], [3, 4, 5, 7, 9], [1, 3, 4, 5, 7, 9], [2, 3, 4, 5, 7, 9], [1, 2, 3, 4, 5, 7, 9], [6, 7, 9], [1, 6, 7, 9], [2, 6, 7, 9], [1, 2, 6, 7, 9], [3, 6, 7, 9], [1, 3, 6, 7, 9], [2, 3, 6, 7, 9], [1, 2, 3, 6, 7, 9], [4, 6, 7, 9], [1, 4, 6, 7, 9], [2, 4, 6, 7, 9], [1, 2, 4, 6, 7, 9], [3, 4, 6, 7, 9], [1, 3, 4, 6, 7, 9], [2, 3, 4, 6, 7, 9], [1, 2, 3, 4, 6, 7, 9], [5, 6, 7, 9], [1, 5, 6, 7, 9], [2, 5, 6, 7, 9], [1, 2, 5, 6, 7, 9], [3, 5, 6, 7, 9], [1, 3, 5, 6, 7, 9], [2, 3, 5, 6, 7, 9], [1, 2, 3, 5, 6, 7, 9], [4, 5, 6, 7, 9], [1, 4, 5, 6, 7, 9], [2, 4, 5, 6, 7, 9], [1, 2, 4, 5, 6, 7, 9], [3, 4, 5, 6, 7, 9], [1, 3, 4, 5, 6, 7, 9], [2, 3, 4, 5, 6, 7, 9], [1, 2, 3, 4, 5, 6, 7, 9], [8, 9], [1, 8, 9], [2, 8, 9], [1, 2, 8, 9], [3, 8, 9], [1, 3, 8, 9], [2, 3, 8, 9], [1, 2, 3, 8, 9], [4, 8, 9], [1, 4, 8, 9], [2, 4, 8, 9], [1, 2, 4, 8, 9], [3, 4, 8, 9], [1, 3, 4, 8, 9], [2, 3, 4, 8, 9], [1, 2, 3, 4, 8, 9], [5, 8, 9], [1, 5, 8, 9], [2, 5, 8, 9], [1, 2, 5, 8, 9], [3, 5, 8, 9], [1, 3, 5, 8, 9], [2, 3, 5, 8, 9], [1, 2, 3, 5, 8, 9], [4, 5, 8, 9], [1, 4, 5, 8, 9], [2, 4, 5, 8, 9], [1, 2, 4, 5, 8, 9], [3, 4, 5, 8, 9], [1, 3, 4, 5, 8, 9], [2, 3, 4, 5, 8, 9], [1, 2, 3, 4, 5, 8, 9], [6, 8, 9], [1, 6, 8, 9], [2, 6, 8, 9], [1, 2, 6, 8, 9], [3, 6, 8, 9], [1, 3, 6, 8, 9], [2, 3, 6, 8, 9], [1, 2, 3, 6, 8, 9], [4, 6, 8, 9], [1, 4, 6, 8, 9], [2, 4, 6, 8, 9], [1, 2, 4, 6, 8, 9], [3, 4, 6, 8, 9], [1, 3, 4, 6, 8, 9], [2, 3, 4, 6, 8, 9], [1, 2, 3, 4, 6, 8, 9], [5, 6, 8, 9], [1, 5, 6, 8, 9], [2, 5, 6, 8, 9], [1, 2, 5, 6, 8, 9], [3, 5, 6, 8, 9], [1, 3, 5, 6, 8, 9], [2, 3, 5, 6, 8, 9], [1, 2, 3, 5, 6, 8, 9], [4, 5, 6, 8, 9], [1, 4, 5, 6, 8, 9], [2, 4, 5, 6, 8, 9], [1, 2, 4, 5, 6, 8, 9], [3, 4, 5, 6, 8, 9], [1, 3, 4, 5, 6, 8, 9], [2, 3, 4, 5, 6, 8, 9], [1, 2, 3, 4, 5, 6, 8, 9], [7, 8, 9], [1, 7, 8, 9], [2, 7, 8, 9], [1, 2, 7, 8, 9], [3, 7, 8, 9], [1, 3, 7, 8, 9], [2, 3, 7, 8, 9], [1, 2, 3, 7, 8, 9], [4, 7, 8, 9], [1, 4, 7, 8, 9], [2, 4, 7, 8, 9], [1, 2, 4, 7, 8, 9], [3, 4, 7, 8, 9], [1, 3, 4, 7, 8, 9], [2, 3, 4, 7, 8, 9], [1, 2, 3, 4, 7, 8, 9], [5, 7, 8, 9], [1, 5, 7, 8, 9], [2, 5, 7, 8, 9], [1, 2, 5, 7, 8, 9], [3, 5, 7, 8, 9], [1, 3, 5, 7, 8, 9], [2, 3, 5, 7, 8, 9], [1, 2, 3, 5, 7, 8, 9], [4, 5, 7, 8, 9], [1, 4, 5, 7, 8, 9], [2, 4, 5, 7, 8, 9], [1, 2, 4, 5, 7, 8, 9], [3, 4, 5, 7, 8, 9], [1, 3, 4, 5, 7, 8, 9], [2, 3, 4, 5, 7, 8, 9], [1, 2, 3, 4, 5, 7, 8, 9], [6, 7, 8, 9], [1, 6, 7, 8, 9], [2, 6, 7, 8, 9], [1, 2, 6, 7, 8, 9], [3, 6, 7, 8, 9], [1, 3, 6, 7, 8, 9], [2, 3, 6, 7, 8, 9], [1, 2, 3, 6, 7, 8, 9], [4, 6, 7, 8, 9], [1, 4, 6, 7, 8, 9], [2, 4, 6, 7, 8, 9], [1, 2, 4, 6, 7, 8, 9], [3, 4, 6, 7, 8, 9], [1, 3, 4, 6, 7, 8, 9], [2, 3, 4, 6, 7, 8, 9], [1, 2, 3, 4, 6, 7, 8, 9], [5, 6, 7, 8, 9], [1, 5, 6, 7, 8, 9], [2, 5, 6, 7, 8, 9], [1, 2, 5, 6, 7, 8, 9], [3, 5, 6, 7, 8, 9], [1, 3, 5, 6, 7, 8, 9], [2, 3, 5, 6, 7, 8, 9], [1, 2, 3, 5, 6, 7, 8, 9], [4, 5, 6, 7, 8, 9], [1, 4, 5, 6, 7, 8, 9], [2, 4, 5, 6, 7, 8, 9], [1, 2, 4, 5, 6, 7, 8, 9], [3, 4, 5, 6, 7, 8, 9], [1, 3, 4, 5, 6, 7, 8, 9], [2, 3, 4, 5, 6, 7, 8, 9], [1, 2, 3, 4, 5, 6, 7, 8, 9]]\n"
     ]
    }
   ],
   "source": [
    "def sets(nums):\n",
    "    res = [[]]\n",
    "    for i in nums:\n",
    "        res += [num + [i] for num in res]\n",
    "    return res\n",
    "\n",
    "nums = [1,2,3,4,5,6,7,8,9]\n",
    "print(sets(nums))"
   ]
  },
  {
   "cell_type": "code",
   "execution_count": 9,
   "metadata": {},
   "outputs": [
    {
     "name": "stdout",
     "output_type": "stream",
     "text": [
      "1 2\n",
      "1 3\n",
      "1 4\n",
      "2 3\n",
      "2 4\n",
      "3 4\n"
     ]
    }
   ],
   "source": [
    "l = [1,2,3,4]\n",
    "for i in range(0,len(l)-1):\n",
    "    for j in range(i+1,len(l)):\n",
    "        print(l[i],l[j])"
   ]
  },
  {
   "cell_type": "code",
   "execution_count": 18,
   "metadata": {},
   "outputs": [
    {
     "name": "stdout",
     "output_type": "stream",
     "text": [
      "1 2 3\n",
      "1 2 4\n",
      "1 2 5\n",
      "1 2 6\n",
      "1 2 7\n",
      "1 2 8\n",
      "1 3 4\n",
      "1 3 5\n",
      "1 3 6\n",
      "1 3 7\n",
      "1 3 8\n",
      "1 4 5\n",
      "1 4 6\n",
      "1 4 7\n",
      "1 4 8\n",
      "1 5 6\n",
      "1 5 7\n",
      "1 5 8\n",
      "1 6 7\n",
      "1 6 8\n",
      "1 7 8\n",
      "2 3 4\n",
      "2 3 5\n",
      "2 3 6\n",
      "2 3 7\n",
      "2 3 8\n",
      "2 4 5\n",
      "2 4 6\n",
      "2 4 7\n",
      "2 4 8\n",
      "2 5 6\n",
      "2 5 7\n",
      "2 5 8\n",
      "2 6 7\n",
      "2 6 8\n",
      "2 7 8\n",
      "3 4 5\n",
      "3 4 6\n",
      "3 4 7\n",
      "3 4 8\n",
      "3 5 6\n",
      "3 5 7\n",
      "3 5 8\n",
      "3 6 7\n",
      "3 6 8\n",
      "3 7 8\n",
      "4 5 6\n",
      "4 5 7\n",
      "4 5 8\n",
      "4 6 7\n",
      "4 6 8\n",
      "4 7 8\n",
      "5 6 7\n",
      "5 6 8\n",
      "5 7 8\n",
      "6 7 8\n"
     ]
    }
   ],
   "source": [
    "l = [1,2,3,4,5,6,7,8]\n",
    "ans = \"\"\n",
    "for i in range(0,len(l)-2):\n",
    "    for j in range(i+1,len(l)-1):\n",
    "        for k in range(j+1,len(l)):\n",
    "            print(l[i],l[j],l[k])     "
   ]
  },
  {
   "cell_type": "code",
   "execution_count": 14,
   "metadata": {},
   "outputs": [
    {
     "name": "stdout",
     "output_type": "stream",
     "text": [
      "[1, 2]\n",
      "[1, 3]\n",
      "[1, 4]\n",
      "[1, 5]\n",
      "[1, 6]\n",
      "[2, 3]\n",
      "[2, 4]\n",
      "[2, 5]\n",
      "[2, 6]\n",
      "[3, 4]\n",
      "[3, 5]\n",
      "[3, 6]\n",
      "[4, 5]\n",
      "[4, 6]\n",
      "[5, 6]\n"
     ]
    }
   ],
   "source": [
    "import itertools\n",
    "l = [1,2,3,4,5,6]\n",
    "b = itertools.combinations(l,2)\n",
    "for i in b:\n",
    "    print(list(i))"
   ]
  },
  {
   "cell_type": "code",
   "execution_count": 22,
   "metadata": {},
   "outputs": [
    {
     "name": "stdout",
     "output_type": "stream",
     "text": [
      "(1, 2, 3)\n",
      "(1, 2, 5)\n",
      "(1, 2, 7)\n",
      "(1, 2, 8)\n",
      "(1, 2, 9)\n",
      "(1, 2, 0)\n",
      "(1, 3, 2)\n",
      "(1, 3, 5)\n",
      "(1, 3, 7)\n",
      "(1, 3, 8)\n",
      "(1, 3, 9)\n",
      "(1, 3, 0)\n",
      "(1, 5, 2)\n",
      "(1, 5, 3)\n",
      "(1, 5, 7)\n",
      "(1, 5, 8)\n",
      "(1, 5, 9)\n",
      "(1, 5, 0)\n",
      "(1, 7, 2)\n",
      "(1, 7, 3)\n",
      "(1, 7, 5)\n",
      "(1, 7, 8)\n",
      "(1, 7, 9)\n",
      "(1, 7, 0)\n",
      "(1, 8, 2)\n",
      "(1, 8, 3)\n",
      "(1, 8, 5)\n",
      "(1, 8, 7)\n",
      "(1, 8, 9)\n",
      "(1, 8, 0)\n",
      "(1, 9, 2)\n",
      "(1, 9, 3)\n",
      "(1, 9, 5)\n",
      "(1, 9, 7)\n",
      "(1, 9, 8)\n",
      "(1, 9, 0)\n",
      "(1, 0, 2)\n",
      "(1, 0, 3)\n",
      "(1, 0, 5)\n",
      "(1, 0, 7)\n",
      "(1, 0, 8)\n",
      "(1, 0, 9)\n",
      "(2, 1, 3)\n",
      "(2, 1, 5)\n",
      "(2, 1, 7)\n",
      "(2, 1, 8)\n",
      "(2, 1, 9)\n",
      "(2, 1, 0)\n",
      "(2, 3, 1)\n",
      "(2, 3, 5)\n",
      "(2, 3, 7)\n",
      "(2, 3, 8)\n",
      "(2, 3, 9)\n",
      "(2, 3, 0)\n",
      "(2, 5, 1)\n",
      "(2, 5, 3)\n",
      "(2, 5, 7)\n",
      "(2, 5, 8)\n",
      "(2, 5, 9)\n",
      "(2, 5, 0)\n",
      "(2, 7, 1)\n",
      "(2, 7, 3)\n",
      "(2, 7, 5)\n",
      "(2, 7, 8)\n",
      "(2, 7, 9)\n",
      "(2, 7, 0)\n",
      "(2, 8, 1)\n",
      "(2, 8, 3)\n",
      "(2, 8, 5)\n",
      "(2, 8, 7)\n",
      "(2, 8, 9)\n",
      "(2, 8, 0)\n",
      "(2, 9, 1)\n",
      "(2, 9, 3)\n",
      "(2, 9, 5)\n",
      "(2, 9, 7)\n",
      "(2, 9, 8)\n",
      "(2, 9, 0)\n",
      "(2, 0, 1)\n",
      "(2, 0, 3)\n",
      "(2, 0, 5)\n",
      "(2, 0, 7)\n",
      "(2, 0, 8)\n",
      "(2, 0, 9)\n",
      "(3, 1, 2)\n",
      "(3, 1, 5)\n",
      "(3, 1, 7)\n",
      "(3, 1, 8)\n",
      "(3, 1, 9)\n",
      "(3, 1, 0)\n",
      "(3, 2, 1)\n",
      "(3, 2, 5)\n",
      "(3, 2, 7)\n",
      "(3, 2, 8)\n",
      "(3, 2, 9)\n",
      "(3, 2, 0)\n",
      "(3, 5, 1)\n",
      "(3, 5, 2)\n",
      "(3, 5, 7)\n",
      "(3, 5, 8)\n",
      "(3, 5, 9)\n",
      "(3, 5, 0)\n",
      "(3, 7, 1)\n",
      "(3, 7, 2)\n",
      "(3, 7, 5)\n",
      "(3, 7, 8)\n",
      "(3, 7, 9)\n",
      "(3, 7, 0)\n",
      "(3, 8, 1)\n",
      "(3, 8, 2)\n",
      "(3, 8, 5)\n",
      "(3, 8, 7)\n",
      "(3, 8, 9)\n",
      "(3, 8, 0)\n",
      "(3, 9, 1)\n",
      "(3, 9, 2)\n",
      "(3, 9, 5)\n",
      "(3, 9, 7)\n",
      "(3, 9, 8)\n",
      "(3, 9, 0)\n",
      "(3, 0, 1)\n",
      "(3, 0, 2)\n",
      "(3, 0, 5)\n",
      "(3, 0, 7)\n",
      "(3, 0, 8)\n",
      "(3, 0, 9)\n",
      "(5, 1, 2)\n",
      "(5, 1, 3)\n",
      "(5, 1, 7)\n",
      "(5, 1, 8)\n",
      "(5, 1, 9)\n",
      "(5, 1, 0)\n",
      "(5, 2, 1)\n",
      "(5, 2, 3)\n",
      "(5, 2, 7)\n",
      "(5, 2, 8)\n",
      "(5, 2, 9)\n",
      "(5, 2, 0)\n",
      "(5, 3, 1)\n",
      "(5, 3, 2)\n",
      "(5, 3, 7)\n",
      "(5, 3, 8)\n",
      "(5, 3, 9)\n",
      "(5, 3, 0)\n",
      "(5, 7, 1)\n",
      "(5, 7, 2)\n",
      "(5, 7, 3)\n",
      "(5, 7, 8)\n",
      "(5, 7, 9)\n",
      "(5, 7, 0)\n",
      "(5, 8, 1)\n",
      "(5, 8, 2)\n",
      "(5, 8, 3)\n",
      "(5, 8, 7)\n",
      "(5, 8, 9)\n",
      "(5, 8, 0)\n",
      "(5, 9, 1)\n",
      "(5, 9, 2)\n",
      "(5, 9, 3)\n",
      "(5, 9, 7)\n",
      "(5, 9, 8)\n",
      "(5, 9, 0)\n",
      "(5, 0, 1)\n",
      "(5, 0, 2)\n",
      "(5, 0, 3)\n",
      "(5, 0, 7)\n",
      "(5, 0, 8)\n",
      "(5, 0, 9)\n",
      "(7, 1, 2)\n",
      "(7, 1, 3)\n",
      "(7, 1, 5)\n",
      "(7, 1, 8)\n",
      "(7, 1, 9)\n",
      "(7, 1, 0)\n",
      "(7, 2, 1)\n",
      "(7, 2, 3)\n",
      "(7, 2, 5)\n",
      "(7, 2, 8)\n",
      "(7, 2, 9)\n",
      "(7, 2, 0)\n",
      "(7, 3, 1)\n",
      "(7, 3, 2)\n",
      "(7, 3, 5)\n",
      "(7, 3, 8)\n",
      "(7, 3, 9)\n",
      "(7, 3, 0)\n",
      "(7, 5, 1)\n",
      "(7, 5, 2)\n",
      "(7, 5, 3)\n",
      "(7, 5, 8)\n",
      "(7, 5, 9)\n",
      "(7, 5, 0)\n",
      "(7, 8, 1)\n",
      "(7, 8, 2)\n",
      "(7, 8, 3)\n",
      "(7, 8, 5)\n",
      "(7, 8, 9)\n",
      "(7, 8, 0)\n",
      "(7, 9, 1)\n",
      "(7, 9, 2)\n",
      "(7, 9, 3)\n",
      "(7, 9, 5)\n",
      "(7, 9, 8)\n",
      "(7, 9, 0)\n",
      "(7, 0, 1)\n",
      "(7, 0, 2)\n",
      "(7, 0, 3)\n",
      "(7, 0, 5)\n",
      "(7, 0, 8)\n",
      "(7, 0, 9)\n",
      "(8, 1, 2)\n",
      "(8, 1, 3)\n",
      "(8, 1, 5)\n",
      "(8, 1, 7)\n",
      "(8, 1, 9)\n",
      "(8, 1, 0)\n",
      "(8, 2, 1)\n",
      "(8, 2, 3)\n",
      "(8, 2, 5)\n",
      "(8, 2, 7)\n",
      "(8, 2, 9)\n",
      "(8, 2, 0)\n",
      "(8, 3, 1)\n",
      "(8, 3, 2)\n",
      "(8, 3, 5)\n",
      "(8, 3, 7)\n",
      "(8, 3, 9)\n",
      "(8, 3, 0)\n",
      "(8, 5, 1)\n",
      "(8, 5, 2)\n",
      "(8, 5, 3)\n",
      "(8, 5, 7)\n",
      "(8, 5, 9)\n",
      "(8, 5, 0)\n",
      "(8, 7, 1)\n",
      "(8, 7, 2)\n",
      "(8, 7, 3)\n",
      "(8, 7, 5)\n",
      "(8, 7, 9)\n",
      "(8, 7, 0)\n",
      "(8, 9, 1)\n",
      "(8, 9, 2)\n",
      "(8, 9, 3)\n",
      "(8, 9, 5)\n",
      "(8, 9, 7)\n",
      "(8, 9, 0)\n",
      "(8, 0, 1)\n",
      "(8, 0, 2)\n",
      "(8, 0, 3)\n",
      "(8, 0, 5)\n",
      "(8, 0, 7)\n",
      "(8, 0, 9)\n",
      "(9, 1, 2)\n",
      "(9, 1, 3)\n",
      "(9, 1, 5)\n",
      "(9, 1, 7)\n",
      "(9, 1, 8)\n",
      "(9, 1, 0)\n",
      "(9, 2, 1)\n",
      "(9, 2, 3)\n",
      "(9, 2, 5)\n",
      "(9, 2, 7)\n",
      "(9, 2, 8)\n",
      "(9, 2, 0)\n",
      "(9, 3, 1)\n",
      "(9, 3, 2)\n",
      "(9, 3, 5)\n",
      "(9, 3, 7)\n",
      "(9, 3, 8)\n",
      "(9, 3, 0)\n",
      "(9, 5, 1)\n",
      "(9, 5, 2)\n",
      "(9, 5, 3)\n",
      "(9, 5, 7)\n",
      "(9, 5, 8)\n",
      "(9, 5, 0)\n",
      "(9, 7, 1)\n",
      "(9, 7, 2)\n",
      "(9, 7, 3)\n",
      "(9, 7, 5)\n",
      "(9, 7, 8)\n",
      "(9, 7, 0)\n",
      "(9, 8, 1)\n",
      "(9, 8, 2)\n",
      "(9, 8, 3)\n",
      "(9, 8, 5)\n",
      "(9, 8, 7)\n",
      "(9, 8, 0)\n",
      "(9, 0, 1)\n",
      "(9, 0, 2)\n",
      "(9, 0, 3)\n",
      "(9, 0, 5)\n",
      "(9, 0, 7)\n",
      "(9, 0, 8)\n",
      "(0, 1, 2)\n",
      "(0, 1, 3)\n",
      "(0, 1, 5)\n",
      "(0, 1, 7)\n",
      "(0, 1, 8)\n",
      "(0, 1, 9)\n",
      "(0, 2, 1)\n",
      "(0, 2, 3)\n",
      "(0, 2, 5)\n",
      "(0, 2, 7)\n",
      "(0, 2, 8)\n",
      "(0, 2, 9)\n",
      "(0, 3, 1)\n",
      "(0, 3, 2)\n",
      "(0, 3, 5)\n",
      "(0, 3, 7)\n",
      "(0, 3, 8)\n",
      "(0, 3, 9)\n",
      "(0, 5, 1)\n",
      "(0, 5, 2)\n",
      "(0, 5, 3)\n",
      "(0, 5, 7)\n",
      "(0, 5, 8)\n",
      "(0, 5, 9)\n",
      "(0, 7, 1)\n",
      "(0, 7, 2)\n",
      "(0, 7, 3)\n",
      "(0, 7, 5)\n",
      "(0, 7, 8)\n",
      "(0, 7, 9)\n",
      "(0, 8, 1)\n",
      "(0, 8, 2)\n",
      "(0, 8, 3)\n",
      "(0, 8, 5)\n",
      "(0, 8, 7)\n",
      "(0, 8, 9)\n",
      "(0, 9, 1)\n",
      "(0, 9, 2)\n",
      "(0, 9, 3)\n",
      "(0, 9, 5)\n",
      "(0, 9, 7)\n",
      "(0, 9, 8)\n",
      "336\n"
     ]
    }
   ],
   "source": [
    "import itertools\n",
    "l = [1,2,3,5,7,8,9,0]\n",
    "cnt = 0\n",
    "b = itertools.permutations(l,3)\n",
    "for i in list(b):\n",
    "    print(i)\n",
    "    cnt += 1\n",
    "print(cnt)"
   ]
  },
  {
   "cell_type": "code",
   "execution_count": 17,
   "metadata": {},
   "outputs": [
    {
     "name": "stdout",
     "output_type": "stream",
     "text": [
      "[1, 2]\n",
      "[1, 3]\n",
      "[1, 5]\n",
      "[2, 3]\n",
      "[2, 5]\n",
      "[3, 5]\n"
     ]
    }
   ],
   "source": [
    "from itertools import combinations as com \n",
    "l = [1,2,3,5]\n",
    "b = com(l,2)\n",
    "for i in b:\n",
    "    print(list(i))"
   ]
  },
  {
   "cell_type": "code",
   "execution_count": 24,
   "metadata": {},
   "outputs": [
    {
     "name": "stdout",
     "output_type": "stream",
     "text": [
      "120\n"
     ]
    }
   ],
   "source": [
    "import math as m\n",
    "print(m.factorial(5))"
   ]
  },
  {
   "cell_type": "code",
   "execution_count": 34,
   "metadata": {},
   "outputs": [
    {
     "name": "stdout",
     "output_type": "stream",
     "text": [
      "['2', '4', '7', '9', '2', '7', '4', '8']\n"
     ]
    }
   ],
   "source": [
    "import re\n",
    "s = 'dfhas2479c27b48dtr'\n",
    "print(re.findall('\\d',s))"
   ]
  },
  {
   "cell_type": "code",
   "execution_count": 59,
   "metadata": {},
   "outputs": [
    {
     "name": "stdout",
     "output_type": "stream",
     "text": [
      "[8, 2, 7, 5, 6, 4, 2, 8, 7, 3, 3]\n"
     ]
    }
   ],
   "source": [
    "s = 'sdjhf827d5642r873tr3t'\n",
    "ans = []\n",
    "for char in s:\n",
    "    if char.isdigit():\n",
    "        ans.append(int(char))\n",
    "print(ans)"
   ]
  },
  {
   "cell_type": "code",
   "execution_count": 37,
   "metadata": {},
   "outputs": [
    {
     "name": "stdout",
     "output_type": "stream",
     "text": [
      "['%', '%', '^', '@', '^', '@', '*', '$', '@', '&', '^']\n"
     ]
    }
   ],
   "source": [
    "import re\n",
    "s = 'dfhas247%%^@^@*$@&^9c27b48dtr'\n",
    "print(re.findall('\\W',s))"
   ]
  },
  {
   "cell_type": "code",
   "execution_count": 62,
   "metadata": {},
   "outputs": [
    {
     "data": {
      "text/plain": [
       "<function matplotlib.pyplot.show(close=None, block=None)>"
      ]
     },
     "execution_count": 62,
     "metadata": {},
     "output_type": "execute_result"
    },
    {
     "data": {
      "image/png": "[encoded data removed]",
      "text/plain": [
       "<Figure size 640x480 with 1 Axes>"
      ]
     },
     "metadata": {},
     "output_type": "display_data"
    }
   ],
   "source": [
    "import matplotlib.pyplot as py \n",
    "a = [1,2,3]\n",
    "b = [2,4,6]\n",
    "c = [3,5,7]\n",
    "py.plot(a,b,marker='+')\n",
    "py.plot(a,c,marker='+')\n",
    "py.title('Hi')\n",
    "py.show\n"
   ]
  },
  {
   "cell_type": "code",
   "execution_count": 1,
   "metadata": {},
   "outputs": [
    {
     "name": "stdout",
     "output_type": "stream",
     "text": [
      "50\n",
      "200\n",
      "800\n",
      "3000\n"
     ]
    }
   ],
   "source": [
    "class Bank():\n",
    "    def __init__(self,income,expenditure,customers):\n",
    "        self.income = income\n",
    "        self.expenditure = expenditure\n",
    "        self.customers = customers\n",
    "    \n",
    "    def balanceAmount(self):\n",
    "        print(self.income - self.expenditure)\n",
    "    \n",
    "    def total(self):\n",
    "        print(self.customers * self.income)\n",
    "        \n",
    "cust1 = Bank(100,50,2)\n",
    "cust2 = Bank(1000,200,3)\n",
    "cust1.balanceAmount()\n",
    "cust1.total()\n",
    "cust2.balanceAmount()\n",
    "cust2.total()\n",
    "        "
   ]
  },
  {
   "cell_type": "code",
   "execution_count": 48,
   "metadata": {},
   "outputs": [
    {
     "name": "stdout",
     "output_type": "stream",
     "text": [
      "Total Marks is : 409\n",
      "81\n",
      "Total Marks is : 460\n",
      "92\n",
      "460\n",
      "460\n"
     ]
    }
   ],
   "source": [
    "class Student():\n",
    "    def __init__(self, telugu, tamil, hindi, maths, social):\n",
    "        self.telugu = telugu\n",
    "        self.tamil = tamil\n",
    "        self.hindi = hindi\n",
    "        self.maths = maths\n",
    "        self.social = social\n",
    "    \n",
    "    def totalMarks(self):\n",
    "        print(\"Total Marks is :\", self.telugu + self.tamil + self.hindi + self.maths + self.social)\n",
    "    \n",
    "    def average(self):\n",
    "        print((self.telugu + self.tamil + self.hindi + self.maths + self.social)//5)\n",
    "    \n",
    "    def rank(self,other):\n",
    "        print(max(self.telugu + self.tamil + self.hindi + self.maths + self.social, other.telugu + other.tamil + other.hindi + other.maths + other.social))\n",
    "        \n",
    "student1 = Student(89,87,95,48,90)\n",
    "student2 = Student(99,85,98,97,81)\n",
    "student1.totalMarks()\n",
    "student1.average()\n",
    "student2.totalMarks()\n",
    "student2.average()\n",
    "student1.rank(student2)\n",
    "Student.rank(student1,student2)\n",
    "        "
   ]
  },
  {
   "cell_type": "code",
   "execution_count": 49,
   "metadata": {},
   "outputs": [
    {
     "name": "stdout",
     "output_type": "stream",
     "text": [
      "<__main__.Student object at 0x7f3b74294f90>\n"
     ]
    }
   ],
   "source": [
    "class Student():\n",
    "    def __init__(self):\n",
    "        pass\n",
    "l = []\n",
    "for i in range(5):\n",
    "    obj = Student()\n",
    "    l.append(obj)\n",
    "print(l[0])"
   ]
  },
  {
   "cell_type": "code",
   "execution_count": 69,
   "metadata": {},
   "outputs": [
    {
     "ename": "TypeError",
     "evalue": "__main__.Students() argument after * must be an iterable, not int",
     "output_type": "error",
     "traceback": [
      "\u001b[0;31m---------------------------------------------------------------------------\u001b[0m",
      "\u001b[0;31mTypeError\u001b[0m                                 Traceback (most recent call last)",
      "Cell \u001b[0;32mIn[69], line 6\u001b[0m\n\u001b[1;32m      3\u001b[0m         \u001b[38;5;28mself\u001b[39m\u001b[38;5;241m.\u001b[39mvalues \u001b[38;5;241m=\u001b[39m args\n\u001b[1;32m      5\u001b[0m marksList \u001b[38;5;241m=\u001b[39m [(\u001b[38;5;241m90\u001b[39m),(\u001b[38;5;241m91\u001b[39m),(\u001b[38;5;241m59\u001b[39m),(\u001b[38;5;241m88\u001b[39m),(\u001b[38;5;241m90\u001b[39m)]\n\u001b[0;32m----> 6\u001b[0m l \u001b[38;5;241m=\u001b[39m \u001b[43m[\u001b[49m\u001b[43mStudents\u001b[49m\u001b[43m(\u001b[49m\u001b[38;5;241;43m*\u001b[39;49m\u001b[43mmarks\u001b[49m\u001b[43m)\u001b[49m\u001b[43m \u001b[49m\u001b[38;5;28;43;01mfor\u001b[39;49;00m\u001b[43m \u001b[49m\u001b[43mmarks\u001b[49m\u001b[43m \u001b[49m\u001b[38;5;129;43;01min\u001b[39;49;00m\u001b[43m \u001b[49m\u001b[43mmarksList\u001b[49m\u001b[43m]\u001b[49m\n\u001b[1;32m      7\u001b[0m \u001b[38;5;28;01mfor\u001b[39;00m j \u001b[38;5;129;01min\u001b[39;00m l:\n\u001b[1;32m      8\u001b[0m     \u001b[38;5;28mprint\u001b[39m(\u001b[38;5;124m\"\u001b[39m\u001b[38;5;124mMarks:\u001b[39m\u001b[38;5;124m\"\u001b[39m, j\u001b[38;5;241m.\u001b[39mvalues)\n",
      "Cell \u001b[0;32mIn[69], line 6\u001b[0m, in \u001b[0;36m<listcomp>\u001b[0;34m(.0)\u001b[0m\n\u001b[1;32m      3\u001b[0m         \u001b[38;5;28mself\u001b[39m\u001b[38;5;241m.\u001b[39mvalues \u001b[38;5;241m=\u001b[39m args\n\u001b[1;32m      5\u001b[0m marksList \u001b[38;5;241m=\u001b[39m [(\u001b[38;5;241m90\u001b[39m),(\u001b[38;5;241m91\u001b[39m),(\u001b[38;5;241m59\u001b[39m),(\u001b[38;5;241m88\u001b[39m),(\u001b[38;5;241m90\u001b[39m)]\n\u001b[0;32m----> 6\u001b[0m l \u001b[38;5;241m=\u001b[39m [\u001b[43mStudents\u001b[49m\u001b[43m(\u001b[49m\u001b[38;5;241;43m*\u001b[39;49m\u001b[43mmarks\u001b[49m\u001b[43m)\u001b[49m \u001b[38;5;28;01mfor\u001b[39;00m marks \u001b[38;5;129;01min\u001b[39;00m marksList]\n\u001b[1;32m      7\u001b[0m \u001b[38;5;28;01mfor\u001b[39;00m j \u001b[38;5;129;01min\u001b[39;00m l:\n\u001b[1;32m      8\u001b[0m     \u001b[38;5;28mprint\u001b[39m(\u001b[38;5;124m\"\u001b[39m\u001b[38;5;124mMarks:\u001b[39m\u001b[38;5;124m\"\u001b[39m, j\u001b[38;5;241m.\u001b[39mvalues)\n",
      "\u001b[0;31mTypeError\u001b[0m: __main__.Students() argument after * must be an iterable, not int"
     ]
    }
   ],
   "source": [
    "class Students:\n",
    "    def __init__(self, *args):\n",
    "        self.values = args\n",
    "\n",
    "marksList = [(90),(91),(59),(88),(90)]\n",
    "l = [Students(*marks) for marks in marksList]\n",
    "for j in l:\n",
    "    print(\"Marks:\", j.values)\n"
   ]
  },
  {
   "cell_type": "code",
   "execution_count": 73,
   "metadata": {},
   "outputs": [
    {
     "name": "stdout",
     "output_type": "stream",
     "text": [
      "Marks: (90, 87, 76, 88, 76)\n",
      "<class '__main__.Students'>\n",
      "Marks: (33, 89, 76, 44, 90)\n",
      "<class '__main__.Students'>\n",
      "Marks: (58, 73, 99, 65, 88)\n",
      "<class '__main__.Students'>\n"
     ]
    }
   ],
   "source": [
    "class Students:\n",
    "    def __init__(self, *args):\n",
    "        self.values = args\n",
    "\n",
    "marks_List = [(90,87,76,88,76), (33,89,76,44,90), (58,73,99,65,88)]\n",
    "objects = [Students(*values) for values in marks_List]\n",
    "for obj in objects:\n",
    "    print(\"Marks:\", obj.values)\n",
    "    print(type(obj))"
   ]
  }
 ],
 "metadata": {
  "kernelspec": {
   "display_name": "Python 3",
   "language": "python",
   "name": "python3"
  },
  "language_info": {
   "codemirror_mode": {
    "name": "ipython",
    "version": 3
   },
   "file_extension": ".py",
   "mimetype": "text/x-python",
   "name": "python",
   "nbconvert_exporter": "python",
   "pygments_lexer": "ipython3",
   "version": "3.11.8"
  }
 },
 "nbformat": 4,
 "nbformat_minor": 2
}
