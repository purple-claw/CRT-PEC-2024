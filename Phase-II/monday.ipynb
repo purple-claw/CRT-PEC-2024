{
 "cells": [
  {
   "cell_type": "code",
   "execution_count": 2,
   "metadata": {},
   "outputs": [
    {
     "name": "stdout",
     "output_type": "stream",
     "text": [
      "abababababababababababssss"
     ]
    }
   ],
   "source": [
    "streng = input()\n",
    "nums=[]\n",
    "aplhs=[]\n",
    "a = ''\n",
    "b = ''\n",
    "for char in streng:\n",
    "    if char.isdigit():\n",
    "        a+=char\n",
    "        if len(b)>0:\n",
    "            aplhs.append(b)\n",
    "            b=''\n",
    "    else:\n",
    "        b+=char\n",
    "        if len(a)>0:\n",
    "            nums.append(a)\n",
    "            a=''\n",
    "aplhs.append(b)\n",
    "for i in range(len(nums)):\n",
    "    res = int(nums[i])\n",
    "    print(res*aplhs[i],end='')"
   ]
  },
  {
   "cell_type": "code",
   "execution_count": 3,
   "metadata": {},
   "outputs": [
    {
     "name": "stdout",
     "output_type": "stream",
     "text": [
      "a1b1v4\n"
     ]
    }
   ],
   "source": [
    "s = input()\n",
    "res = \"\"\n",
    "nums = []\n",
    "alphs = []\n",
    "for char in s:\n",
    "    if char.isdigit():\n",
    "        nums.append(char)\n",
    "    else:\n",
    "        alphs.append(char)\n",
    "nums.sort()\n",
    "alphs.sort()\n",
    "for i in range(len(alphs)):\n",
    "    res += alphs[i]\n",
    "    res += nums[i]\n",
    "print(res)"
   ]
  },
  {
   "cell_type": "code",
   "execution_count": null,
   "metadata": {},
   "outputs": [],
   "source": []
  },
  {
   "cell_type": "code",
   "execution_count": 7,
   "metadata": {},
   "outputs": [
    {
     "name": "stdout",
     "output_type": "stream",
     "text": [
      "4\n",
      "27\n"
     ]
    }
   ],
   "source": [
    "main_tank = 23\n",
    "extra_tank = 4\n",
    "extras = main_tank // 5\n",
    "print(extras)\n",
    "fuel_used = main_tank + extras\n",
    "print(fuel_used)"
   ]
  },
  {
   "cell_type": "code",
   "execution_count": 1,
   "metadata": {},
   "outputs": [
    {
     "name": "stdout",
     "output_type": "stream",
     "text": [
      "[1, 7, 5, 2, 0, 0, 0, 0]\n"
     ]
    }
   ],
   "source": [
    "a= [0,1,7,0,0,5,0,2]\n",
    "for i in a:\n",
    "    if i==0:\n",
    "        a.remove(0) #remove a zero\n",
    "        a.append(0) # add the removed zero at the end\n",
    "print(a)"
   ]
  },
  {
   "cell_type": "code",
   "execution_count": 7,
   "metadata": {},
   "outputs": [
    {
     "name": "stdout",
     "output_type": "stream",
     "text": [
      "aaaddddffjssttv\n"
     ]
    }
   ],
   "source": [
    "a = 'avdjasf'\n",
    "b = 'sftadtdd'\n",
    "s =  a+b\n",
    "l = sorted(s)\n",
    "st = ''\n",
    "for i in l:\n",
    "    st += st.join(i)\n",
    "print(st)"
   ]
  },
  {
   "cell_type": "code",
   "execution_count": null,
   "metadata": {},
   "outputs": [],
   "source": [
    "n = 945"
   ]
  },
  {
   "cell_type": "code",
   "execution_count": 1,
   "metadata": {},
   "outputs": [
    {
     "data": {
      "text/plain": [
       "120"
      ]
     },
     "execution_count": 1,
     "metadata": {},
     "output_type": "execute_result"
    }
   ],
   "source": [
    "def fact(n):\n",
    "    if n==1:\n",
    "        return 1\n",
    "    return n * fact(n-1)\n",
    "fact(5)"
   ]
  },
  {
   "cell_type": "code",
   "execution_count": 12,
   "metadata": {},
   "outputs": [
    {
     "name": "stdout",
     "output_type": "stream",
     "text": [
      "5\n"
     ]
    }
   ],
   "source": [
    "def fibo(n):\n",
    "    if n==0:\n",
    "        return 0\n",
    "    elif n==1:\n",
    "        return 1\n",
    "    return fibo(n-1) + fibo(n-2)\n",
    "print(fibo(5))"
   ]
  },
  {
   "cell_type": "markdown",
   "metadata": {},
   "source": [
    "##Stack\n"
   ]
  },
  {
   "cell_type": "code",
   "execution_count": 26,
   "metadata": {},
   "outputs": [
    {
     "name": "stdout",
     "output_type": "stream",
     "text": [
      "1\n",
      "52769152769"
     ]
    }
   ],
   "source": [
    "class Stack:\n",
    "    def __init__(self) -> None:\n",
    "        self.stack = []\n",
    "        self.size = 5\n",
    "        self.top = -1\n",
    "    \n",
    "    def push(self,data):\n",
    "        if self.top == self.size:\n",
    "            print(\"Stack is Overflown\")\n",
    "            return\n",
    "        self.stack.append(data)\n",
    "        self.top += 1\n",
    "    \n",
    "    def pop(self):\n",
    "        if self.top==-1:\n",
    "            print('Stack is Overflown')\n",
    "        else:\n",
    "            self.stack.pop()\n",
    "            self.top-=1\n",
    "    \n",
    "    def peek(self):\n",
    "        print(self.stack[self.top])\n",
    "    \n",
    "    def display(self):\n",
    "        if self.top==-1:\n",
    "            print('Stack is Overflown')\n",
    "        else:\n",
    "            for i in range(0,self.top+1):\n",
    "                print(self.stack[i],end=\"\")\n",
    "       \n",
    "obj = Stack()\n",
    "obj.push(5)\n",
    "obj.push(2)\n",
    "obj.push(7)\n",
    "obj.push(6)\n",
    "obj.push(9)\n",
    "obj.push(1)\n",
    "obj.peek()\n",
    "obj.display()\n",
    "obj.pop()\n",
    "obj.display()"
   ]
  },
  {
   "cell_type": "code",
   "execution_count": 1,
   "metadata": {},
   "outputs": [
    {
     "ename": "TypeError",
     "evalue": "'<' not supported between instances of 'int' and 'list'",
     "output_type": "error",
     "traceback": [
      "\u001b[0;31m---------------------------------------------------------------------------\u001b[0m",
      "\u001b[0;31mTypeError\u001b[0m                                 Traceback (most recent call last)",
      "Cell \u001b[0;32mIn[1], line 27\u001b[0m\n\u001b[1;32m     24\u001b[0m             \u001b[38;5;28mprint\u001b[39m(\u001b[38;5;28mself\u001b[39m\u001b[38;5;241m.\u001b[39mqueue[\u001b[38;5;241m0\u001b[39m])\n\u001b[1;32m     26\u001b[0m ovj \u001b[38;5;241m=\u001b[39m Queue()\n\u001b[0;32m---> 27\u001b[0m \u001b[43movj\u001b[49m\u001b[38;5;241;43m.\u001b[39;49m\u001b[43menqueue\u001b[49m\u001b[43m(\u001b[49m\u001b[38;5;241;43m2\u001b[39;49m\u001b[43m)\u001b[49m\n\u001b[1;32m     28\u001b[0m ovj\u001b[38;5;241m.\u001b[39menqueue(\u001b[38;5;241m3\u001b[39m)\n\u001b[1;32m     29\u001b[0m ovj\u001b[38;5;241m.\u001b[39menqueue(\u001b[38;5;241m5\u001b[39m)\n",
      "Cell \u001b[0;32mIn[1], line 10\u001b[0m, in \u001b[0;36mQueue.enqueue\u001b[0;34m(self, data)\u001b[0m\n\u001b[1;32m      8\u001b[0m \u001b[38;5;28;01mif\u001b[39;00m \u001b[38;5;28mself\u001b[39m\u001b[38;5;241m.\u001b[39mrear\u001b[38;5;241m==\u001b[39m\u001b[38;5;241m-\u001b[39m\u001b[38;5;241m1\u001b[39m:\n\u001b[1;32m      9\u001b[0m     \u001b[38;5;28mself\u001b[39m\u001b[38;5;241m.\u001b[39mrear\u001b[38;5;241m=\u001b[39m\u001b[38;5;28mself\u001b[39m\u001b[38;5;241m.\u001b[39mfront\u001b[38;5;241m=\u001b[39m\u001b[38;5;241m0\u001b[39m\n\u001b[0;32m---> 10\u001b[0m \u001b[38;5;28;01mif\u001b[39;00m \u001b[38;5;28mself\u001b[39m\u001b[38;5;241m.\u001b[39mrear\u001b[38;5;241m==\u001b[39m\u001b[38;5;28mself\u001b[39m\u001b[38;5;241m.\u001b[39msize\u001b[38;5;241m-\u001b[39m\u001b[38;5;241m1\u001b[39m \u001b[38;5;129;01mor\u001b[39;00m \u001b[38;5;28;43mself\u001b[39;49m\u001b[38;5;241;43m.\u001b[39;49m\u001b[43mrear\u001b[49m\u001b[43m \u001b[49m\u001b[38;5;241;43m<\u001b[39;49m\u001b[43m \u001b[49m\u001b[38;5;28;43mself\u001b[39;49m\u001b[38;5;241;43m.\u001b[39;49m\u001b[43mqueue\u001b[49m:\n\u001b[1;32m     11\u001b[0m     \u001b[38;5;28mprint\u001b[39m(\u001b[38;5;124m\"\u001b[39m\u001b[38;5;124mQueue is Full\u001b[39m\u001b[38;5;124m\"\u001b[39m)\n\u001b[1;32m     12\u001b[0m \u001b[38;5;28;01melse\u001b[39;00m:\n",
      "\u001b[0;31mTypeError\u001b[0m: '<' not supported between instances of 'int' and 'list'"
     ]
    }
   ],
   "source": [
    "class Queue:\n",
    "    def __init__(self):\n",
    "        self.queue =[]\n",
    "        self.size = 5\n",
    "        self.front = self.rear=-1\n",
    "    \n",
    "    def enqueue(self,data):\n",
    "        if self.rear==-1:\n",
    "            self.rear=self.front=0\n",
    "        if self.rear==self.size-1 or self.rear < self.queue:\n",
    "            print(\"Queue is Full\")\n",
    "        else:\n",
    "            self.queue.append(data)\n",
    "            self.rear+=1\n",
    "    \n",
    "    def dequeue(self):\n",
    "        if self.queue:\n",
    "            self.queue.pop(0)\n",
    "        else:\n",
    "            print(\"Queue is Empty\")\n",
    "            \n",
    "    def peek(self):\n",
    "        if self.queue:\n",
    "            print(self.queue[0])\n",
    "\n",
    "ovj = Queue()\n",
    "ovj.enqueue(2)\n",
    "ovj.enqueue(3)\n",
    "ovj.enqueue(5)\n",
    "ovj.enqueue(7)\n",
    "ovj.enqueue(9)\n",
    "ovj.enqueue(0)\n",
    "ovj.enqueue(1)"
   ]
  },
  {
   "cell_type": "code",
   "execution_count": 2,
   "metadata": {},
   "outputs": [
    {
     "name": "stdout",
     "output_type": "stream",
     "text": [
      "120\n"
     ]
    }
   ],
   "source": [
    "class Stack:\n",
    "    def __init__(self):\n",
    "        self.stack = []\n",
    "\n",
    "    def push(self, item):\n",
    "        self.stack.append(item)\n",
    "\n",
    "    def pop(self):\n",
    "        return self.stack.pop()\n",
    "\n",
    "    def is_empty(self):\n",
    "        return len(self.stack) == 0\n",
    "\n",
    "def factorial(n):\n",
    "    if n < 0:\n",
    "        return \"Invalid input\"\n",
    "    stack = Stack()\n",
    "    while n > 1:\n",
    "        stack.push(n)\n",
    "        n -= 1\n",
    "    res = 1 \n",
    "    while not stack.is_empty():\n",
    "        res *= stack.pop()\n",
    "    return res\n",
    "print(factorial(5))"
   ]
  },
  {
   "cell_type": "code",
   "execution_count": 11,
   "metadata": {},
   "outputs": [
    {
     "ename": "IndexError",
     "evalue": "pop from empty list",
     "output_type": "error",
     "traceback": [
      "\u001b[0;31m---------------------------------------------------------------------------\u001b[0m",
      "\u001b[0;31mIndexError\u001b[0m                                Traceback (most recent call last)",
      "Cell \u001b[0;32mIn[11], line 20\u001b[0m\n\u001b[1;32m     18\u001b[0m \u001b[38;5;28;01melif\u001b[39;00m i \u001b[38;5;241m==\u001b[39m \u001b[38;5;124m'\u001b[39m\u001b[38;5;124m*\u001b[39m\u001b[38;5;124m'\u001b[39m:\n\u001b[1;32m     19\u001b[0m     a \u001b[38;5;241m=\u001b[39m stack\u001b[38;5;241m.\u001b[39mpop()\n\u001b[0;32m---> 20\u001b[0m     b \u001b[38;5;241m=\u001b[39m \u001b[43mstack\u001b[49m\u001b[38;5;241;43m.\u001b[39;49m\u001b[43mpop\u001b[49m\u001b[43m(\u001b[49m\u001b[43m)\u001b[49m\n\u001b[1;32m     21\u001b[0m     stack\u001b[38;5;241m.\u001b[39mpush(a\u001b[38;5;241m*\u001b[39mb)\n\u001b[1;32m     22\u001b[0m \u001b[38;5;28;01melif\u001b[39;00m i \u001b[38;5;241m==\u001b[39m \u001b[38;5;124m'\u001b[39m\u001b[38;5;124m/\u001b[39m\u001b[38;5;124m'\u001b[39m:\n",
      "Cell \u001b[0;32mIn[11], line 9\u001b[0m, in \u001b[0;36mStack.pop\u001b[0;34m(self)\u001b[0m\n\u001b[1;32m      8\u001b[0m \u001b[38;5;28;01mdef\u001b[39;00m \u001b[38;5;21mpop\u001b[39m(\u001b[38;5;28mself\u001b[39m):\n\u001b[0;32m----> 9\u001b[0m     \u001b[38;5;28;01mreturn\u001b[39;00m \u001b[38;5;28;43mself\u001b[39;49m\u001b[38;5;241;43m.\u001b[39;49m\u001b[43mstack\u001b[49m\u001b[38;5;241;43m.\u001b[39;49m\u001b[43mpop\u001b[49m\u001b[43m(\u001b[49m\u001b[43m)\u001b[49m\n",
      "\u001b[0;31mIndexError\u001b[0m: pop from empty list"
     ]
    }
   ],
   "source": [
    "class Stack:\n",
    "    def __init__(self):\n",
    "        self.stack = []\n",
    "\n",
    "    def push(self, item):\n",
    "        self.stack.append(item)\n",
    "\n",
    "    def pop(self):\n",
    "        return self.stack.pop()\n",
    "    \n",
    "arr = [5,7,8,'+','/',9,'*']\n",
    "stack = Stack()\n",
    "for i in arr:\n",
    "    if i == '+':\n",
    "        a = stack.pop()\n",
    "        b = stack.pop()\n",
    "        stack.push(a+b)\n",
    "    elif i == '*':\n",
    "        a = stack.pop()\n",
    "        b = stack.pop()\n",
    "        stack.push(a*b)\n",
    "    elif i == '/':\n",
    "        a = stack.pop()\n",
    "        b = stack.pop()\n",
    "        stack.push\n",
    "    else:\n",
    "        stack.push(i)\n",
    "print(stack.pop())"
   ]
  }
 ],
 "metadata": {
  "kernelspec": {
   "display_name": "Python 3",
   "language": "python",
   "name": "python3"
  },
  "language_info": {
   "codemirror_mode": {
    "name": "ipython",
    "version": 3
   },
   "file_extension": ".py",
   "mimetype": "text/x-python",
   "name": "python",
   "nbconvert_exporter": "python",
   "pygments_lexer": "ipython3",
   "version": "3.11.8"
  }
 },
 "nbformat": 4,
 "nbformat_minor": 2
}
