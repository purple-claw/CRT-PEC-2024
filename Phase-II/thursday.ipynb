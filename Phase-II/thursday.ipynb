{
 "cells": [
  {
   "cell_type": "code",
   "execution_count": 3,
   "metadata": {},
   "outputs": [
    {
     "name": "stdout",
     "output_type": "stream",
     "text": [
      "9 8 5 3 11 10 15 \n",
      "10\n",
      "9 8 5 3 11 10 15 9\n",
      "8\n",
      "5\n",
      "3\n"
     ]
    }
   ],
   "source": [
    "class TreeNode:\n",
    "    def __init__(self, value):\n",
    "        self.value = value\n",
    "        self.left = None\n",
    "        self.right = None\n",
    "        \n",
    "class BinarySearchTree:\n",
    "    def __init__(self):\n",
    "        self.root = None\n",
    "        \n",
    "    def insert(self, value):\n",
    "        if self.root is None:\n",
    "            self.root = TreeNode(value)\n",
    "        else:\n",
    "            self._insert_recursive(self.root, value)\n",
    "\n",
    "    def _insert_recursive(self, node, value):\n",
    "        if value < node.value:\n",
    "            if node.left is None:\n",
    "                node.left = TreeNode(value)\n",
    "            else:\n",
    "                self._insert_recursive(node.left, value)\n",
    "        else:\n",
    "            if node.right is None:\n",
    "                node.right = TreeNode(value)\n",
    "            else:\n",
    "                self._insert_recursive(node.right, value)\n",
    "\n",
    "    def delete(self, value):\n",
    "        self.root = self._delete_recursive(self.root, value)\n",
    "\n",
    "    def _delete_recursive(self, node, value):\n",
    "        if not node:\n",
    "            return node\n",
    "        if value < node.value:\n",
    "            node.left = self._delete_recursive(node.left, value)\n",
    "        elif value > node.value:\n",
    "            node.right = self._delete_recursive(node.right, value)\n",
    "        else:\n",
    "            if not node.left:\n",
    "                return node.right\n",
    "            elif not node.right:\n",
    "                return node.left\n",
    "            temp = self._min_value_node(node.right)\n",
    "            node.value = temp.value\n",
    "            node.right = self._delete_recursive(node.right, temp.value)\n",
    "        return node\n",
    "\n",
    "    def height(self,root):\n",
    "        if not root:\n",
    "            return -1\n",
    "        return 1+max(self.height(root.left),self.height(root.right))\n",
    "\n",
    "\n",
    "    def _min_value_node(self, node):\n",
    "        current = node\n",
    "        while current.left:\n",
    "            current =current.left\n",
    "        return current\n",
    "\n",
    "    def search(self, value):\n",
    "        return self._search_recursive(self.root, value)\n",
    "\n",
    "    def _search_recursive(self, node, value):  # v 15 n n\n",
    "        if not node or node.value == value:\n",
    "            return node.value\n",
    "        if value < node.value:\n",
    "            return self._search_recursive(node.left, value)\n",
    "        return self._search_recursive(node.right, value)\n",
    "\n",
    "    def max(self):\n",
    "        current = self.root\n",
    "        while current.right:\n",
    "            current = current.right\n",
    "        print(current.value)\n",
    "\n",
    "    def preorder_traversal(self, node):\n",
    "        if node:\n",
    "            print(node.value, end=\" \")\n",
    "            self.preorder_traversal(node.left)\n",
    "            self.preorder_traversal(node.right)\n",
    "    \n",
    "    def height(self, root):\n",
    "        if not root:\n",
    "            return -1\n",
    "        return 1 + max(self.height(root.left), self.height(root.right))\n",
    "    \n",
    "    def level_max(self,root):\n",
    "        if not root: return\n",
    "        q = []\n",
    "        q.append(root)\n",
    "        while q:\n",
    "            n = len(q)\n",
    "            for i in range(n):\n",
    "                temp = q.pop(0)\n",
    "                if i == 0:\n",
    "                    print(temp.value)\n",
    "                if temp.left:\n",
    "                    q.append(temp.left)\n",
    "                if temp.right:\n",
    "                    q.append(temp.right)\n",
    "\n",
    "bst = BinarySearchTree()\n",
    "bst.insert(9)\n",
    "bst.insert(8)\n",
    "bst.insert(11)\n",
    "bst.insert(5)\n",
    "bst.insert(10)\n",
    "bst.insert(15)\n",
    "bst.insert(3)\n",
    "bst.preorder_traversal(bst.root)\n",
    "print()\n",
    "print(bst.search(10))\n",
    "bst.preorder_traversal(bst.root)\n",
    "bst.level_max(bst.root)"
   ]
  },
  {
   "cell_type": "code",
   "execution_count": 4,
   "metadata": {},
   "outputs": [
    {
     "name": "stdout",
     "output_type": "stream",
     "text": [
      "{'A': ['B', 'D'], 'B': ['C', 'E'], 'C': ['B', 'D'], 'D': ['A', 'C'], 'E': ['B']}\n",
      "['C', 'B', 'D', 'E', 'A']\n",
      "['C', 'D', 'A', 'B', 'E']\n"
     ]
    }
   ],
   "source": [
    "class Graph:\n",
    "    def __init__(self):\n",
    "        self.graph = {}\n",
    "    \n",
    "    def add_edge(self, u, v):\n",
    "        if u not in self.graph:\n",
    "            self.graph[u] = []\n",
    "        self.graph[u].append(v)\n",
    "    \n",
    "    def bfs(self, node):\n",
    "        que = [node]\n",
    "        visited = set()\n",
    "        visited.add(node)\n",
    "        ans = []\n",
    "        while que:\n",
    "            curr = que.pop(0)\n",
    "            ans.append(curr)\n",
    "            for i in self.graph[curr]:\n",
    "                if i not in visited:\n",
    "                    visited.add(i)\n",
    "                    que.append(i)\n",
    "        return ans\n",
    "    \n",
    "    def dfs(self, node):\n",
    "        stack = [node]\n",
    "        visited = set()\n",
    "        visited.add(node)\n",
    "        ans = []\n",
    "        while stack:\n",
    "            curr = stack.pop()\n",
    "            ans.append(curr)\n",
    "            for i in self.graph[curr]:\n",
    "                if i not in visited:\n",
    "                    visited.add(i)\n",
    "                    stack.append(i)\n",
    "        return ans\n",
    "\n",
    "g=Graph()\n",
    "g.add_edge('A','B')\n",
    "g.add_edge('A','D')\n",
    "g.add_edge('B','C')\n",
    "g.add_edge('B','E')\n",
    "g.add_edge('C','B')\n",
    "g.add_edge('C','D')\n",
    "g.add_edge('D','A')\n",
    "g.add_edge('D','C')\n",
    "g.add_edge('E','B')\n",
    "print(g.graph)\n",
    "res=g.bfs('C')\n",
    "print(res)\n",
    "res = g.dfs('C')\n",
    "print(res)"
   ]
  },
  {
   "cell_type": "code",
   "execution_count": 6,
   "metadata": {},
   "outputs": [
    {
     "name": "stdout",
     "output_type": "stream",
     "text": [
      "Reach [[1, 1, 0, 1], [0, 1, 1, 0], [0, 0, 1, 1], [0, 0, 0, 1]]\n",
      "[[1, 1, 1, 1], [0, 1, 1, 1], [0, 0, 1, 1], [0, 0, 0, 1]]\n"
     ]
    }
   ],
   "source": [
    "def transitive_closure(graph):\n",
    "    v = len(graph)\n",
    "    reach = []\n",
    "    for i in range(v):\n",
    "        row = []\n",
    "        for j in range(v):\n",
    "            row.append(graph[i][j])\n",
    "        reach.append(row)\n",
    "    print(\"Reach\",reach)\n",
    "    for k in range(v):\n",
    "        for i in range(v):\n",
    "            for j in range(v):\n",
    "                reach[i][j] = reach[i][j] or (reach[i][k] and reach[k][j]) #[i][j] = [i][j] or ([i][k] and [k][j])\n",
    "    return reach\n",
    "                \n",
    "graph = [[1, 1, 0, 1],\n",
    "        [0, 1, 1, 0],\n",
    "        [0, 0, 1, 1],\n",
    "        [0, 0, 0, 1]]\n",
    "print(transitive_closure(graph))"
   ]
  },
  {
   "cell_type": "code",
   "execution_count": 7,
   "metadata": {},
   "outputs": [
    {
     "name": "stdout",
     "output_type": "stream",
     "text": [
      "1\n"
     ]
    }
   ],
   "source": [
    "def numIslands(grid) -> int:\n",
    "        m,n = len(grid),len(grid[0])\n",
    "        ans = 0\n",
    "        def dfs(r,c):\n",
    "            if r<0 or r==m or c<0 or c==n or grid[r][c]=='0':\n",
    "                return \n",
    "            grid[r][c]='0'\n",
    "            dfs(r+1,c)\n",
    "            dfs(r-1,c)\n",
    "            dfs(r,c-1)\n",
    "            dfs(r,c+1)\n",
    "        for i in range(m):\n",
    "            for j in range(n):\n",
    "                if grid[i][j]=='1':\n",
    "                    dfs(i,j)\n",
    "                    ans+=1\n",
    "        return ans\n",
    "grid = [\n",
    "  [\"1\",\"1\",\"1\",\"1\",\"0\"],\n",
    "  [\"1\",\"1\",\"0\",\"1\",\"0\"],\n",
    "  [\"1\",\"1\",\"0\",\"0\",\"0\"],\n",
    "  [\"0\",\"0\",\"0\",\"0\",\"0\"]\n",
    "]\n",
    "print(numIslands(grid))"
   ]
  },
  {
   "cell_type": "code",
   "execution_count": 9,
   "metadata": {},
   "outputs": [
    {
     "name": "stdout",
     "output_type": "stream",
     "text": [
      "6\n"
     ]
    }
   ],
   "source": [
    "def linearSearch(nums, target):\n",
    "    for i in range(len(nums)):\n",
    "        if nums[i]==target:\n",
    "            return i\n",
    "        \n",
    "nums =[2,5,7,3,5,9,1,5,9]\n",
    "print(linearSearch(nums, 1))"
   ]
  },
  {
   "cell_type": "code",
   "execution_count": 13,
   "metadata": {},
   "outputs": [
    {
     "name": "stdout",
     "output_type": "stream",
     "text": [
      "-1\n"
     ]
    }
   ],
   "source": [
    "def binarysearch(nums, target):\n",
    "    low,high = 0,len(nums)-1\n",
    "    while low<=high:\n",
    "        mid = low+(high-low)//2\n",
    "        if nums[mid]==target:\n",
    "            return mid\n",
    "        elif nums[mid]<target:\n",
    "            low = mid+1\n",
    "        else:\n",
    "            high = mid-1\n",
    "    return -1\n",
    "\n",
    "nums = [2,5,7,3,5,9,1,5,9]\n",
    "print(binarysearch(nums,7))"
   ]
  }
 ],
 "metadata": {
  "kernelspec": {
   "display_name": "Python 3",
   "language": "python",
   "name": "python3"
  },
  "language_info": {
   "codemirror_mode": {
    "name": "ipython",
    "version": 3
   },
   "file_extension": ".py",
   "mimetype": "text/x-python",
   "name": "python",
   "nbconvert_exporter": "python",
   "pygments_lexer": "ipython3",
   "version": "3.11.8"
  }
 },
 "nbformat": 4,
 "nbformat_minor": 2
}
