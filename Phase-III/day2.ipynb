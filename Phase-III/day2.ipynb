{
 "cells": [
  {
   "cell_type": "markdown",
   "metadata": {},
   "source": [
    "Valid Parentheses"
   ]
  },
  {
   "cell_type": "code",
   "execution_count": 11,
   "metadata": {},
   "outputs": [
    {
     "name": "stdout",
     "output_type": "stream",
     "text": [
      "(((())))\n",
      "((()()))\n",
      "((())())\n",
      "((()))()\n",
      "(()(()))\n",
      "(()()())\n",
      "(()())()\n",
      "(())(())\n",
      "(())()()\n",
      "()((()))\n",
      "()(()())\n",
      "()(())()\n",
      "()()(())\n",
      "()()()()\n",
      "\n"
     ]
    }
   ],
   "source": [
    "def printValidOnes(opened_ones, closed_ones, ans, result):\n",
    "    if opened_ones == 0 and closed_ones == 0:\n",
    "        result.append(ans)\n",
    "        return\n",
    "    if opened_ones != 0:\n",
    "        printValidOnes(opened_ones - 1, closed_ones, ans + '(', result)\n",
    "        \n",
    "    if closed_ones != 0 and closed_ones > opened_ones:\n",
    "        printValidOnes(opened_ones, closed_ones - 1, ans + ')', result)\n",
    "\n",
    "\n",
    "n = int(input())\n",
    "result = [] \n",
    "opened_ones = n\n",
    "closed_ones = n\n",
    "ans = \"\"\n",
    "printValidOnes(opened_ones, closed_ones, ans, result)\n",
    "for i in result:\n",
    "    print(i)\n",
    "print()"
   ]
  },
  {
   "cell_type": "markdown",
   "metadata": {},
   "source": [
    "Recursive Subsets"
   ]
  },
  {
   "cell_type": "code",
   "execution_count": 17,
   "metadata": {},
   "outputs": [
    {
     "name": "stdout",
     "output_type": "stream",
     "text": [
      "[10, 20, 40, 50]\n",
      "[10, 20, 40]\n",
      "[10, 20, 50]\n",
      "[10, 20]\n",
      "[10, 40, 50]\n",
      "[10, 40]\n",
      "[10, 50]\n",
      "[10]\n",
      "[20, 40, 50]\n",
      "[20, 40]\n",
      "[20, 50]\n",
      "[20]\n",
      "[40, 50]\n",
      "[40]\n",
      "[50]\n",
      "None\n"
     ]
    }
   ],
   "source": [
    "def solution_2(arr, c = 0, temp = []):\n",
    "    n = len(arr)\n",
    "    if c == n:\n",
    "        if temp:\n",
    "            print(temp)\n",
    "    else:\n",
    "        solution_2(arr, c + 1, temp + [arr[c]])\n",
    "        solution_2(arr, c + 1, temp)\n",
    "\n",
    "arr = [10,20,40,50]\n",
    "print(solution_2(arr))"
   ]
  },
  {
   "cell_type": "markdown",
   "metadata": {},
   "source": [
    "Rat in a Maze "
   ]
  },
  {
   "cell_type": "code",
   "execution_count": 2,
   "metadata": {},
   "outputs": [
    {
     "name": "stdout",
     "output_type": "stream",
     "text": [
      "DDDRUURDDR\n",
      "DDDRURDR\n",
      "DDDRRR\n",
      "DDRURDDR\n",
      "DDRDRR\n",
      "DDRRDR\n",
      "DRDDRR\n",
      "DRDLDRRR\n",
      "DRDRDR\n",
      "DRRDDR\n",
      "DRRDLDRR\n",
      "DRRDLLDRRR\n",
      "RDDDRR\n",
      "RDDLDRRR\n",
      "RDDRDR\n",
      "RDLDDRURDR\n",
      "RDLDDRRR\n",
      "RDLDRDRR\n",
      "RDLDRRDR\n",
      "RDRDDR\n",
      "RDRDLDRR\n",
      "RDRDLLDRRR\n"
     ]
    }
   ],
   "source": [
    "def findAllWays(x, y, matrix, N, path, visited):\n",
    "\t# Border checks\n",
    "\tif x < 0 or x == N or y < 0 or y == N:\n",
    "\t\treturn\n",
    " \n",
    "\t# Condition to check whether we can traverse via those coordinates or not\n",
    "\tif matrix[x][y] == 0 or visited[x][y] == True:\n",
    "\t\treturn\n",
    " \n",
    "\t# Condition to check whether we've reached our final coordinates or not\n",
    "\tif x == N - 1 and y == N - 1:\n",
    "\t\tprint(\"\".join(path))\n",
    "\t\treturn\n",
    " \n",
    "\tvisited[x][y] = True \n",
    " \n",
    "\t# Top Direction\n",
    "\tpath.append(\"U\")\n",
    "\tfindAllWays(x - 1, y, matrix, N, path, visited)\n",
    "\tpath.pop()\n",
    " \n",
    "\t# Bottom Direction\n",
    "\tpath.append(\"D\")\n",
    "\tfindAllWays(x + 1, y, matrix, N, path, visited)\n",
    "\tpath.pop()\n",
    " \n",
    "\t# Left Direction \n",
    "\tpath.append(\"L\")\n",
    "\tfindAllWays(x, y - 1, matrix, N, path, visited)\n",
    "\tpath.pop()\n",
    " \n",
    "\t# Right Direction\n",
    "\tpath.append(\"R\")\n",
    "\tfindAllWays(x, y + 1, matrix, N, path, visited)\n",
    "\tpath.pop()\n",
    "\tvisited[x][y]=False\n",
    " \n",
    " \n",
    "path = []\n",
    "visited = []\n",
    "matrix = [[1, 1, 0, 0], [1, 1, 1, 1], [1, 1, 1, 0], [1, 1, 1, 1]]\n",
    "n = len(matrix)\n",
    " \n",
    "for i in range(n):\n",
    "\teachRow = []\n",
    "\tfor j in range(n):\n",
    "\t\teachRow.append(False)\n",
    "\tvisited.append(eachRow)\n",
    "findAllWays(0, 0, matrix, n, path, visited)"
   ]
  },
  {
   "cell_type": "markdown",
   "metadata": {},
   "source": [
    "Palindromic Partitioning"
   ]
  },
  {
   "cell_type": "code",
   "execution_count": 4,
   "metadata": {},
   "outputs": [
    {
     "name": "stdout",
     "output_type": "stream",
     "text": [
      "[['a', 'a', 'b'], ['aa', 'b']]\n"
     ]
    }
   ],
   "source": [
    "class Solution(object):\n",
    "    def printAllPartitions(self, index, word, result, path):\n",
    "        if index == len(word):\n",
    "            result.append(path[:])\n",
    "            return\n",
    " \n",
    "        currentWord = \"\"\n",
    "        for position in range(index, len(word)):\n",
    "            currentWord += word[position]\n",
    "            # Below we are trying to check whether the substring is a palindrome or not\n",
    "            if currentWord == currentWord[::-1]:\n",
    "                path.append(currentWord)\n",
    "                self.printAllPartitions(position + 1, word, result, path)\n",
    "                path.pop()\n",
    "                \n",
    "    def partition(self, s):\n",
    "        result = []\n",
    "        path = []\n",
    "        self.printAllPartitions(0, s, result, path)\n",
    "        return result\n",
    "\n",
    "s = Solution()\n",
    "print(s.partition(\"aab\"))"
   ]
  }
 ],
 "metadata": {
  "kernelspec": {
   "display_name": "Python 3",
   "language": "python",
   "name": "python3"
  },
  "language_info": {
   "codemirror_mode": {
    "name": "ipython",
    "version": 3
   },
   "file_extension": ".py",
   "mimetype": "text/x-python",
   "name": "python",
   "nbconvert_exporter": "python",
   "pygments_lexer": "ipython3",
   "version": "3.11.8"
  }
 },
 "nbformat": 4,
 "nbformat_minor": 2
}
