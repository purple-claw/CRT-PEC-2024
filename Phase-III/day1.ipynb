{
 "cells": [
  {
   "cell_type": "code",
   "execution_count": 1,
   "metadata": {},
   "outputs": [
    {
     "name": "stdout",
     "output_type": "stream",
     "text": [
      "Leaving here 11\n",
      "Even position: 11\n",
      "Leaving here 10\n",
      "Odd position 10\n",
      "Leaving here 9\n",
      "Even position: 9\n",
      "Leaving here 8\n",
      "Odd position 8\n",
      "Leaving here 7\n",
      "Even position: 7\n",
      "Leaving here 6\n",
      "Odd position 6\n",
      "Leaving here 5\n",
      "Even position: 5\n",
      "Leaving here 4\n",
      "Odd position 4\n",
      "Leaving here 3\n",
      "Even position: 3\n",
      "Leaving here 2\n",
      "Odd position 2\n",
      "Leaving here 1\n",
      "Even position: 1\n",
      "Leaving here 0\n",
      "Base condition got hit\n",
      "Index is: 1\n",
      "Index is: 0\n",
      "Entering here 1\n",
      "Index is: 2\n",
      "Index is: 1\n",
      "Index is: 0\n",
      "Entering here 2\n",
      "Index is: 3\n",
      "Index is: 2\n",
      "Index is: 1\n",
      "Index is: 0\n",
      "Entering here 3\n",
      "Index is: 4\n",
      "Index is: 3\n",
      "Index is: 2\n",
      "Index is: 1\n",
      "Index is: 0\n",
      "Entering here 4\n",
      "Index is: 5\n",
      "Index is: 4\n",
      "Index is: 3\n",
      "Index is: 2\n",
      "Index is: 1\n",
      "Index is: 0\n",
      "Entering here 5\n",
      "Index is: 6\n",
      "Index is: 5\n",
      "Index is: 4\n",
      "Index is: 3\n",
      "Index is: 2\n",
      "Index is: 1\n",
      "Index is: 0\n",
      "Entering here 6\n",
      "Index is: 7\n",
      "Index is: 6\n",
      "Index is: 5\n",
      "Index is: 4\n",
      "Index is: 3\n",
      "Index is: 2\n",
      "Index is: 1\n",
      "Index is: 0\n",
      "Entering here 7\n",
      "Index is: 8\n",
      "Index is: 7\n",
      "Index is: 6\n",
      "Index is: 5\n",
      "Index is: 4\n",
      "Index is: 3\n",
      "Index is: 2\n",
      "Index is: 1\n",
      "Index is: 0\n",
      "Entering here 8\n",
      "Index is: 9\n",
      "Index is: 8\n",
      "Index is: 7\n",
      "Index is: 6\n",
      "Index is: 5\n",
      "Index is: 4\n",
      "Index is: 3\n",
      "Index is: 2\n",
      "Index is: 1\n",
      "Index is: 0\n",
      "Entering here 9\n",
      "Index is: 10\n",
      "Index is: 9\n",
      "Index is: 8\n",
      "Index is: 7\n",
      "Index is: 6\n",
      "Index is: 5\n",
      "Index is: 4\n",
      "Index is: 3\n",
      "Index is: 2\n",
      "Index is: 1\n",
      "Index is: 0\n",
      "Entering here 10\n",
      "Index is: 11\n",
      "Index is: 10\n",
      "Index is: 9\n",
      "Index is: 8\n",
      "Index is: 7\n",
      "Index is: 6\n",
      "Index is: 5\n",
      "Index is: 4\n",
      "Index is: 3\n",
      "Index is: 2\n",
      "Index is: 1\n",
      "Index is: 0\n",
      "Entering here 11\n"
     ]
    }
   ],
   "source": [
    "def printThis(position):\n",
    "    print(\"Leaving here\",position)\n",
    "    if position==0:\n",
    "        print(\"Base condition got hit\")\n",
    "        return\n",
    "    if position%2==1:\n",
    "        print(\"Even position:\",position)\n",
    "    else:\n",
    "        print(\"Odd position\",position)\n",
    "    printThis(position-1)\n",
    "    for index in range(position,-1,-1):\n",
    "        print(\"Index is:\",index)\n",
    "    print(\"Entering here\",position)\n",
    "printThis(11)"
   ]
  },
  {
   "cell_type": "code",
   "execution_count": 2,
   "metadata": {},
   "outputs": [
    {
     "name": "stdout",
     "output_type": "stream",
     "text": [
      "Sum is: 70\n"
     ]
    }
   ],
   "source": [
    "# Passing data from child function to Parent function\n",
    "def printSum2(index, n, nums):\n",
    "    if index == n:\n",
    "        return 0\n",
    "    nextElementsSum = printSum2(index + 1, n, nums)\n",
    "    return nextElementsSum + nums[index]\n",
    "\n",
    "nums = [12, 34, 12, 5, 7]\n",
    "n = len(nums)\n",
    "result = printSum2(0, n, nums)\n",
    "print(\"Sum is:\", result)"
   ]
  },
  {
   "cell_type": "code",
   "execution_count": 3,
   "metadata": {},
   "outputs": [
    {
     "name": "stdout",
     "output_type": "stream",
     "text": [
      "Min ele 7\n"
     ]
    }
   ],
   "source": [
    "#finding minimum in a list\n",
    "def find_min2(index,nums,n):\n",
    "    if index == n - 1:\n",
    "        return nums[index]\n",
    "    nextsmaller=find_min2(index+1,nums,n)\n",
    "    if nextsmaller>nums[index]:\n",
    "        return nums[index]\n",
    "    return nextsmaller\n",
    "nums=[21,15,34,7,9]\n",
    "result=find_min2(0,nums,len(nums))\n",
    "print(\"Min ele\",result)"
   ]
  },
  {
   "cell_type": "code",
   "execution_count": 4,
   "metadata": {},
   "outputs": [
    {
     "name": "stdout",
     "output_type": "stream",
     "text": [
      "Max num is: 32\n"
     ]
    }
   ],
   "source": [
    "def findmax1(index,nums,n,result):\n",
    "    if index==n:\n",
    "        print(\"Max num is:\", result)\n",
    "        return\n",
    "    if nums[index]>result:\n",
    "        result=nums[index]\n",
    "    findmax1(index+1,nums,n,result)\n",
    "\n",
    "nums=[12,32,11,10]\n",
    "result=findmax1(0,nums,len(nums),0)"
   ]
  },
  {
   "cell_type": "code",
   "execution_count": 5,
   "metadata": {},
   "outputs": [
    {
     "name": "stdout",
     "output_type": "stream",
     "text": [
      "Vowels count is: 5\n"
     ]
    }
   ],
   "source": [
    "#using backtracing\n",
    "def countVowelsWay2(word, index, n):\n",
    "    if index == n:\n",
    "        return 0\n",
    "    nextVowelsCount = countVowelsWay2(word, index + 1, n)\n",
    "    vowels = \"aeiouAEIOU\"\n",
    "    if word[index] in vowels:\n",
    "        nextVowelsCount += 1\n",
    "    return nextVowelsCount\n",
    "\n",
    "\n",
    "word = \"abcdeefuigh\"\n",
    "result = countVowelsWay2(word, 0, len(word))\n",
    "print(\"Vowels count is:\", result)"
   ]
  },
  {
   "cell_type": "code",
   "execution_count": 6,
   "metadata": {},
   "outputs": [
    {
     "name": "stdout",
     "output_type": "stream",
     "text": [
      "Vowels count is: 5\n"
     ]
    }
   ],
   "source": [
    "#count of the vowels\n",
    "def countVowelsWay1(word, index, n, result):\n",
    "    if index == n:\n",
    "        print(\"Vowels count is:\", result)\n",
    "        return\n",
    "    vowels = \"aeiouAEIOU\"\n",
    "    if word[index] in vowels:\n",
    "        result += 1\n",
    "    countVowelsWay1(word, index + 1, n, result)\n",
    "\n",
    "\n",
    "word = \"abcdeefuigh\"\n",
    "countVowelsWay1(word, 0, len(word), 0)"
   ]
  },
  {
   "cell_type": "code",
   "execution_count": 7,
   "metadata": {},
   "outputs": [
    {
     "name": "stdout",
     "output_type": "stream",
     "text": [
      "1111\n",
      "1110\n",
      "1101\n",
      "1100\n",
      "1011\n",
      "1010\n",
      "1001\n",
      "1000\n",
      "0111\n",
      "0110\n",
      "0101\n",
      "0100\n",
      "0011\n",
      "0010\n",
      "0001\n",
      "0000\n"
     ]
    }
   ],
   "source": [
    "#unique combinations in a binary string\n",
    "def printBinaryNumbers(size, result, n):\n",
    "    if size == n:\n",
    "        print(result)\n",
    "        return\n",
    "    printBinaryNumbers(size + 1, result + '1', n)\n",
    "    printBinaryNumbers(size + 1, result + '0', n)\n",
    "n = 4\n",
    "printBinaryNumbers(0, '', n)"
   ]
  },
  {
   "cell_type": "code",
   "execution_count": null,
   "metadata": {},
   "outputs": [],
   "source": []
  }
 ],
 "metadata": {
  "kernelspec": {
   "display_name": "Python 3",
   "language": "python",
   "name": "python3"
  },
  "language_info": {
   "codemirror_mode": {
    "name": "ipython",
    "version": 3
   },
   "file_extension": ".py",
   "mimetype": "text/x-python",
   "name": "python",
   "nbconvert_exporter": "python",
   "pygments_lexer": "ipython3",
   "version": "3.11.8"
  }
 },
 "nbformat": 4,
 "nbformat_minor": 2
}
