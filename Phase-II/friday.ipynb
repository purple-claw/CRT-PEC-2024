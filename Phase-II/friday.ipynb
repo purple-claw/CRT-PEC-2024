{
 "cells": [
  {
   "cell_type": "code",
   "execution_count": 3,
   "metadata": {},
   "outputs": [
    {
     "name": "stdout",
     "output_type": "stream",
     "text": [
      "3 5 8 9 10 11 15 \n",
      "None\n"
     ]
    }
   ],
   "source": [
    "class TreeNode:\n",
    "    def __init__(self, data):\n",
    "        self.data = data\n",
    "        self.left = None\n",
    "        self.right = None\n",
    "    \n",
    "class BinarySearchTree:\n",
    "    def __init__(self):\n",
    "        self.root = None\n",
    "    \n",
    "    def insert(self, data):\n",
    "        new_node = TreeNode(data)\n",
    "        if self.root is None:\n",
    "            self.root = new_node\n",
    "            return\n",
    "        temp = self.root\n",
    "        while temp:\n",
    "            if data < temp.data:\n",
    "                if temp.left is None:\n",
    "                    temp.left = new_node\n",
    "                    return\n",
    "                temp = temp.left\n",
    "            else:\n",
    "                if temp.right is None:\n",
    "                    temp.right = new_node\n",
    "                    return\n",
    "                temp = temp.right\n",
    "    \n",
    "    def search(self, root, data):\n",
    "        if root is None:\n",
    "            print(\"The data is not found\")\n",
    "            return\n",
    "        if root.data == data:\n",
    "            print(\"The data is found\")\n",
    "            return\n",
    "        if data < root.data:\n",
    "            self.search(root.left, data)\n",
    "        else:\n",
    "            self.search(root.right, data)\n",
    "    \n",
    "    def inorder(self, root):\n",
    "        if root:\n",
    "            self.inorder(root.left)\n",
    "            print(root.data, end=' ')\n",
    "            self.inorder(root.right)\n",
    "    \n",
    "    def preorder(self, root):\n",
    "        if root:\n",
    "            print(root.data, end=' ')\n",
    "            self.preorder(root.left)\n",
    "            self.preorder(root.right)\n",
    "    \n",
    "    def height(self, root):\n",
    "        if root is None:\n",
    "            return 0\n",
    "        left_height = self.height(root.left)\n",
    "        right_height = self.height(root.right)\n",
    "    \n",
    "    def display(self):\n",
    "        if self.root is None:\n",
    "            print(\"Tree is Empty\")\n",
    "            return\n",
    "        self.inorder(self.root)\n",
    "\n",
    "obj = BinarySearchTree()\n",
    "obj.insert(9)\n",
    "obj.insert(8)\n",
    "obj.insert(11)\n",
    "obj.insert(10)\n",
    "obj.insert(5)\n",
    "obj.insert(15)\n",
    "obj.insert(3)\n",
    "obj.display()\n",
    "print()\n",
    "print(obj.height(obj.root))\n"
   ]
  }
 ],
 "metadata": {
  "kernelspec": {
   "display_name": "Python 3",
   "language": "python",
   "name": "python3"
  },
  "language_info": {
   "codemirror_mode": {
    "name": "ipython",
    "version": 3
   },
   "file_extension": ".py",
   "mimetype": "text/x-python",
   "name": "python",
   "nbconvert_exporter": "python",
   "pygments_lexer": "ipython3",
   "version": "3.11.8"
  }
 },
 "nbformat": 4,
 "nbformat_minor": 2
}
